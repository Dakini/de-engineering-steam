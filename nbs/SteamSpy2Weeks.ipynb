{
 "cells": [
  {
   "cell_type": "code",
   "execution_count": 1,
   "id": "45a7516c",
   "metadata": {},
   "outputs": [],
   "source": [
    "import requests\n",
    "import time\n",
    "import logging \n",
    "from datetime import datetime\n",
    "from concurrent.futures import ThreadPoolExecutor\n",
    "from bs4 import BeautifulSoup\n",
    "import re"
   ]
  },
  {
   "cell_type": "code",
   "execution_count": 2,
   "id": "41e2adb8",
   "metadata": {},
   "outputs": [],
   "source": [
    "from pydantic import BaseModel, Field, HttpUrl, field_validator\n",
    "from typing import Dict, List, Optional, Union"
   ]
  },
  {
   "cell_type": "code",
   "execution_count": 3,
   "id": "69fc5bad",
   "metadata": {},
   "outputs": [],
   "source": [
    "def get_date():\n",
    "    return datetime.now().date()"
   ]
  },
  {
   "cell_type": "code",
   "execution_count": 4,
   "id": "5ecbaebb",
   "metadata": {},
   "outputs": [],
   "source": [
    "class GameMetaData(BaseModel):\n",
    "    appid: int = Field(...,description = \"Steam Application ID\")\n",
    "    name: str = Field(...,description =\"game's name\")\n",
    "    date_added: Optional[datetime] = Field(\n",
    "        ..., default_factory=get_date, description=\"Date the appid was added\"\n",
    "    )\n",
    "    dne:Optional[bool] = Field(False, description=\"Flag that the app id doesn't exist in the database\")"
   ]
  },
  {
   "cell_type": "code",
   "execution_count": 5,
   "id": "dc92bc60",
   "metadata": {},
   "outputs": [],
   "source": [
    "class GameMetaDataList(BaseModel):\n",
    "    games_metadata: List[GameMetaData] = Field(...,description= \"list of games metadata\")"
   ]
  },
  {
   "cell_type": "code",
   "execution_count": 6,
   "id": "74c1f1f6",
   "metadata": {},
   "outputs": [],
   "source": [
    "class GameDetails(BaseModel):\n",
    "    appid: int = Field(...,description = \"Steam Application ID\")\n",
    "    name: str = Field(...,description =\"game's name\")\n",
    "    developer: str = Field(...,description =\"comma separated list of the developers of the game\")\n",
    "    publisher: str = Field(...,description =\"comma separated list of the publishers of the game\")\n",
    "    score_rank: str = Field(\"\",description =\"score rank of the game based on user reviews\")\n",
    "    positive: int = Field(...,description =\"number of positive reviews \")\n",
    "    negative: int = Field(...,description =\"number of negative reviews \")\n",
    "    userscore: float = Field(...,description =\"User score of the game\") ,\n",
    "    owners: str = Field(...,description =\"owners of this application on Steam as a range.\")\n",
    "    average_forever: int = Field(...,description =\"average playtime since March 2009. In minutes\")\n",
    "    average_2weeks: int = Field(...,description =\"average playtime in the last two weeks. In minutes.\")\n",
    "    median_forever: int = Field(...,description =\"median playtime since March 2009. In minutes\")\n",
    "    median_2weeks: int = Field(...,description =\"median playtime in the last two weeks. In minutes\")\n",
    "    price: Optional[int]= Field(...,description =\"current US price in cents\")\n",
    "    initialprice: Optional[int]= Field(...,description =\"original US price in cents.\")\n",
    "    discount:  Optional[str]= Field(...,description =\"current discount in percents.\")\n",
    "    ccu: int = Field(\"\",description =\"peak CCU yesterday\")\n",
    "    languages: Optional[str] = Field(None,description =\"list of supported languages.\")\n",
    "    genre: Optional[str] = Field(None,description =\"list of genres.\")\n",
    "    tags: Optional[dict[str,int]] = Field(None, description =\"game's tags with votes in JSON array.\")"
   ]
  },
  {
   "cell_type": "code",
   "execution_count": 7,
   "id": "0ef32d55",
   "metadata": {},
   "outputs": [],
   "source": [
    "class GameDetailsList(BaseModel):\n",
    "    games: List[GameDetails] = Field(...,description= \"list of games\")"
   ]
  },
  {
   "cell_type": "code",
   "execution_count": 8,
   "id": "b580662c",
   "metadata": {},
   "outputs": [],
   "source": [
    "class SteamGameMetadata(BaseModel):\n",
    "    type: str = Field(...,description =\"game's type\")\n",
    "    name: str = Field(...,description =\"game's name\")\n",
    "    appid: int = Field(...,description = \"Steam Application ID\")\n",
    "    required_age: Optional[Union[int, str]]  = Field(...,description =\"Required age to play the game\")\n",
    "    is_free: bool = Field(...,description =\"is the game free\")\n",
    "    dlc: Optional[list[int]] = Field(...,description =\"list of dlc id's associated with the game\")\n",
    "    controller_support: Optional[str] = Field(..., description=\"Type of controller support for the game, if available\")\n",
    "    about_the_game: Optional[str] = Field(...,description =\"About the game\")\n",
    "    detailed_description: Optional[str] = Field(...,description =\"game's description\")\n",
    "    short_description: Optional[str] = Field(...,description =\"Short description of the game\")\n",
    "    supported_languages: Optional[str] = Field(...,description =\"Languages the game supports\")\n",
    "    reviews: Optional[str] = Field(...,description =\"Reviews or acclaim summary of the game\")\n",
    "    header_image: HttpUrl = Field(...,description =\"Url to the header image of the game \")\n",
    "    capsule_image: HttpUrl = Field(...,description =\"Url to the thumbnail of the game\")\n",
    "    website: Optional[HttpUrl | str] = Field(...,description =\"The games website \")\n",
    "    requirements: Optional[Dict] = Field(..., description=\"PC system requirements for the game\")\n",
    "    developers: Optional[List[str]] = Field(default=[], description=\"List of developers\")\n",
    "    publishers: Optional[List[str]] = Field(..., description=\"List of publishers \")\n",
    "    price_overview: Optional[Dict] = Field(..., description=\"Price overview of the game\")\n",
    "    platform: Optional[dict] = Field(..., description=\"Indicates the platforms it is available on \")\n",
    "    metacritic: Optional[int] = Field(..., description=\"Metacritic score of the game if there\")\n",
    "    categories: Optional[list] = Field(default=[], description=\"Categories of the game\")\n",
    "    genres: Optional[list] = Field(default=[], description=\"Genres the game belongs to\")\n",
    "    recommendations: int = Field(..., description=\"Recommendations numbers\")\n",
    "    achievements_number: int = Field(..., description=\"Total number of attainable achievements\")\n",
    "    release_date: Optional[str] = Field(..., description=\"Date for when the game will release \")\n",
    "    coming_soon: bool = Field(..., description=\"Indicates if the game release is upcoming\")  \n",
    "    \n",
    "    @field_validator(\"required_age\", mode=\"before\")\n",
    "    def validate_required_age(cls, v):\n",
    "        if isinstance(v,str):\n",
    "            match = re.search(r\"\\d+\", v)\n",
    "            if match:\n",
    "                v = int(match.group())\n",
    "            else:\n",
    "                raise ValueError(f\"Invalid value for required age {v}\")\n",
    "        elif not isinstance(v, int):\n",
    "            raise ValueError(f\"Invalid value for required age {v}\")\n",
    "        return v\n",
    "    \n",
    "    @field_validator(\"requirements\", mode=\"before\")\n",
    "    def validate_requirements(cls, v):\n",
    "        if isinstance(v,list):\n",
    "            return {}\n",
    "        else:\n",
    "            return v \n",
    "        \n",
    "class SteamGameMetadataList(BaseModel):\n",
    "    game_metadata:List[SteamGameMetadata] = Field(...,description= \"list of games\")"
   ]
  },
  {
   "cell_type": "code",
   "execution_count": 9,
   "id": "d27aeb16",
   "metadata": {},
   "outputs": [],
   "source": [
    "STEAMSPY_BASE_URL: str = \"https://steamspy.com/api.php\"\n",
    "STEAM_BASE_SEARCH_URL: str = \"http://store.steampowered.com\"\n",
    "STEAM_TOP_GAMES:str = \"https://api.steampowered.com/ISteamChartsService/GetMostPlayedGames/v1/\""
   ]
  },
  {
   "cell_type": "code",
   "execution_count": 10,
   "id": "e4df6fb3",
   "metadata": {},
   "outputs": [],
   "source": [
    "class ApiClient:\n",
    "    \n",
    "    def __init__(self):\n",
    "        self.session = requests.Session() #reuse TCP connections\n",
    "        self.logger = logging.getLogger(__name__)\n",
    "    \n",
    "    def get_request(self, url:str,  parameters= None, max_retries = 5, wait_time =5, wait_time_multiplier = 4):\n",
    "        \"\"\"Send a GET request with retries and exponential backoff.\"\"\"\n",
    "        attempts = 0\n",
    "        headers = {\"User-Agent\": \"YourCustomUserAgent/1.0\", \"DNT\": \"1\"}\n",
    "        while attempts < max_retries:\n",
    "            try: \n",
    "                response = requests.get(url=url, headers= headers, params = parameters)\n",
    "                if response.status_code ==200:\n",
    "                    return response.json()\n",
    "                elif response.status_code == 429:#too many requests \n",
    "                    retry_after = response.headers.get(\"Retry-After\", wait_time)\n",
    "                    time.sleep(retry_after)\n",
    "                else:\n",
    "                    self.logger.error(f\"Request failed with status {response.status_code}: {response.text}\")\n",
    "                    return None\n",
    "                \n",
    "            except Exception as e:\n",
    "                self.logger.error(f\"Request failed with status {e}\")\n",
    "            attempts+=1\n",
    "            sleep_time = min(wait_time * (wait_time_multiplier ** (attempts - 1)), 60)  # Cap sleep at 60 sec\n",
    "            self.logger.info(f\"Retrying in {sleep_time} seconds...\")\n",
    "            time.sleep(sleep_time)\n",
    "\n",
    "        return None\n",
    "    "
   ]
  },
  {
   "cell_type": "code",
   "execution_count": 11,
   "id": "249b8924",
   "metadata": {},
   "outputs": [],
   "source": [
    "class SteamSpytop1002Weeks(ApiClient):\n",
    "    def __init__(self):\n",
    "        super().__init__()\n",
    "        self.url = STEAMSPY_BASE_URL\n",
    "        self.params = {'request':'top100in2weeks'}\n",
    "\n",
    "    def run(self):\n",
    "        \n",
    "        data = self.get_request(self.url, self.params)\n",
    "        if not data:\n",
    "            self.logger.error(\"Failed to fetch data from SteamSpy\")     \n",
    "            \n",
    "        return data.values()"
   ]
  },
  {
   "cell_type": "code",
   "execution_count": 12,
   "id": "06dc62fe",
   "metadata": {},
   "outputs": [],
   "source": [
    "client =SteamSpytop1002Weeks()\n",
    "data = client.run()"
   ]
  },
  {
   "cell_type": "code",
   "execution_count": 13,
   "id": "e23c7d51",
   "metadata": {},
   "outputs": [
    {
     "data": {
      "text/plain": [
       "dict_values([{'appid': 570, 'name': 'Dota 2', 'developer': 'Valve', 'publisher': 'Valve', 'score_rank': '', 'positive': 2003648, 'negative': 453057, 'userscore': 0, 'owners': '200,000,000 .. 500,000,000', 'average_forever': 62824, 'average_2weeks': 792, 'median_forever': 823, 'median_2weeks': 1162, 'price': '0', 'initialprice': '0', 'discount': '0', 'ccu': 351407}, {'appid': 730, 'name': 'Counter-Strike: Global Offensive', 'developer': 'Valve', 'publisher': 'Valve', 'score_rank': '', 'positive': 7513340, 'negative': 1141217, 'userscore': 0, 'owners': '100,000,000 .. 200,000,000', 'average_forever': 37924, 'average_2weeks': 479, 'median_forever': 7765, 'median_2weeks': 398, 'price': '0', 'initialprice': '0', 'discount': '0', 'ccu': 964715}, {'appid': 578080, 'name': 'PUBG: BATTLEGROUNDS', 'developer': 'PUBG Corporation', 'publisher': 'KRAFTON, Inc.', 'score_rank': '', 'positive': 1493677, 'negative': 1026537, 'userscore': 0, 'owners': '50,000,000 .. 100,000,000', 'average_forever': 14871, 'average_2weeks': 868, 'median_forever': 5140, 'median_2weeks': 1268, 'price': '0', 'initialprice': '0', 'discount': '0', 'ccu': 163264}, {'appid': 1623730, 'name': 'Palworld', 'developer': 'Pocketpair', 'publisher': 'Pocketpair', 'score_rank': '', 'positive': 351622, 'negative': 21887, 'userscore': 0, 'owners': '50,000,000 .. 100,000,000', 'average_forever': 3395, 'average_2weeks': 0, 'median_forever': 1905, 'median_2weeks': 0, 'price': '2999', 'initialprice': '2999', 'discount': '0', 'ccu': 30161}, {'appid': 1172470, 'name': 'Apex Legends', 'developer': 'Respawn', 'publisher': 'Electronic Arts', 'score_rank': '', 'positive': 661077, 'negative': 323042, 'userscore': 0, 'owners': '50,000,000 .. 100,000,000', 'average_forever': 14223, 'average_2weeks': 0, 'median_forever': 989, 'median_2weeks': 0, 'price': '0', 'initialprice': '0', 'discount': '0', 'ccu': 68548}, {'appid': 1063730, 'name': 'New World: Aeternum', 'developer': 'Amazon Games', 'publisher': 'Amazon Games', 'score_rank': '', 'positive': 196483, 'negative': 89814, 'userscore': 0, 'owners': '50,000,000 .. 100,000,000', 'average_forever': 2323, 'average_2weeks': 0, 'median_forever': 1732, 'median_2weeks': 0, 'price': '5999', 'initialprice': '5999', 'discount': '0', 'ccu': 7856}, {'appid': 2358720, 'name': 'Black Myth: Wukong', 'developer': 'Game Science', 'publisher': 'Game Science', 'score_rank': '', 'positive': 1100678, 'negative': 37887, 'userscore': 0, 'owners': '50,000,000 .. 100,000,000', 'average_forever': 3444, 'average_2weeks': 0, 'median_forever': 3211, 'median_2weeks': 0, 'price': '5999', 'initialprice': '5999', 'discount': '0', 'ccu': 9964}, {'appid': 1938090, 'name': 'Call of Duty: Modern Warfare II', 'developer': 'Treyarch, Raven Software, Beenox, High Moon Studios, Activision Shanghai, Sledgehammer Games, Infinity Ward, Demonware, Toys for Bob', 'publisher': 'Activision', 'score_rank': '', 'positive': 407076, 'negative': 287212, 'userscore': 0, 'owners': '50,000,000 .. 100,000,000', 'average_forever': 3672, 'average_2weeks': 0, 'median_forever': 868, 'median_2weeks': 0, 'price': '4899', 'initialprice': '6999', 'discount': '30', 'ccu': 50909}, {'appid': 271590, 'name': 'Grand Theft Auto V Legacy', 'developer': 'Rockstar North', 'publisher': 'Rockstar Games', 'score_rank': '', 'positive': 1723885, 'negative': 250204, 'userscore': 0, 'owners': '50,000,000 .. 100,000,000', 'average_forever': 6263, 'average_2weeks': 0, 'median_forever': 3175, 'median_2weeks': 0, 'price': '0', 'initialprice': '0', 'discount': '0', 'ccu': 61352}, {'appid': 550, 'name': 'Left 4 Dead 2', 'developer': 'Valve', 'publisher': 'Valve', 'score_rank': '', 'positive': 924827, 'negative': 23349, 'userscore': 0, 'owners': '50,000,000 .. 100,000,000', 'average_forever': 2557, 'average_2weeks': 55, 'median_forever': 309, 'median_2weeks': 55, 'price': '199', 'initialprice': '999', 'discount': '80', 'ccu': 31263}, {'appid': 553850, 'name': 'HELLDIVERS 2', 'developer': 'Arrowhead Game Studios', 'publisher': 'PlayStation Publishing LLC', 'score_rank': '', 'positive': 746827, 'negative': 234620, 'userscore': 0, 'owners': '50,000,000 .. 100,000,000', 'average_forever': 2267, 'average_2weeks': 0, 'median_forever': 932, 'median_2weeks': 0, 'price': '3999', 'initialprice': '3999', 'discount': '0', 'ccu': 70286}, {'appid': 1599340, 'name': 'Lost Ark', 'developer': 'Smilegate RPG', 'publisher': 'Amazon Games', 'score_rank': '', 'positive': 143461, 'negative': 58248, 'userscore': 0, 'owners': '50,000,000 .. 100,000,000', 'average_forever': 1865, 'average_2weeks': 0, 'median_forever': 1255, 'median_2weeks': 0, 'price': '0', 'initialprice': '0', 'discount': '0', 'ccu': 16222}, {'appid': 304930, 'name': 'Unturned', 'developer': 'Smartly Dressed Games', 'publisher': 'Smartly Dressed Games', 'score_rank': '', 'positive': 504862, 'negative': 48389, 'userscore': 0, 'owners': '50,000,000 .. 100,000,000', 'average_forever': 89714, 'average_2weeks': 0, 'median_forever': 215, 'median_2weeks': 0, 'price': '0', 'initialprice': '0', 'discount': '0', 'ccu': 13857}, {'appid': 236390, 'name': 'War Thunder', 'developer': 'Gaijin Entertainment', 'publisher': 'Gaijin Network Ltd', 'score_rank': '', 'positive': 467944, 'negative': 268194, 'userscore': 0, 'owners': '20,000,000 .. 50,000,000', 'average_forever': 5306, 'average_2weeks': 312, 'median_forever': 507, 'median_2weeks': 312, 'price': '0', 'initialprice': '0', 'discount': '0', 'ccu': 56742}, {'appid': 1245620, 'name': 'ELDEN RING', 'developer': 'FromSoftware, Inc.', 'publisher': 'FromSoftware, Inc., Bandai Namco Entertainment', 'score_rank': '', 'positive': 960363, 'negative': 73980, 'userscore': 0, 'owners': '20,000,000 .. 50,000,000', 'average_forever': 8679, 'average_2weeks': 137, 'median_forever': 7154, 'median_2weeks': 274, 'price': '5999', 'initialprice': '5999', 'discount': '0', 'ccu': 40111}, {'appid': 105600, 'name': 'Terraria', 'developer': 'Re-Logic', 'publisher': 'Re-Logic', 'score_rank': '', 'positive': 1352503, 'negative': 34764, 'userscore': 0, 'owners': '20,000,000 .. 50,000,000', 'average_forever': 8159, 'average_2weeks': 917, 'median_forever': 4193, 'median_2weeks': 917, 'price': '499', 'initialprice': '999', 'discount': '50', 'ccu': 25236}, {'appid': 440, 'name': 'Team Fortress 2', 'developer': 'Valve', 'publisher': 'Valve', 'score_rank': '', 'positive': 1027790, 'negative': 120145, 'userscore': 0, 'owners': '20,000,000 .. 50,000,000', 'average_forever': 6024, 'average_2weeks': 217, 'median_forever': 212, 'median_2weeks': 279, 'price': '0', 'initialprice': '0', 'discount': '0', 'ccu': 46718}, {'appid': 291550, 'name': 'Brawlhalla', 'developer': 'Blue Mammoth Games', 'publisher': 'Ubisoft', 'score_rank': '', 'positive': 312737, 'negative': 70132, 'userscore': 0, 'owners': '20,000,000 .. 50,000,000', 'average_forever': 1388, 'average_2weeks': 0, 'median_forever': 296, 'median_2weeks': 0, 'price': '0', 'initialprice': '0', 'discount': '0', 'ccu': 13066}, {'appid': 1086940, 'name': \"Baldur's Gate 3\", 'developer': 'Larian Studios', 'publisher': 'Larian Studios', 'score_rank': '', 'positive': 713684, 'negative': 23342, 'userscore': 0, 'owners': '20,000,000 .. 50,000,000', 'average_forever': 4254, 'average_2weeks': 1601, 'median_forever': 3310, 'median_2weeks': 2829, 'price': '5999', 'initialprice': '5999', 'discount': '0', 'ccu': 57727}, {'appid': 431960, 'name': 'Wallpaper Engine', 'developer': 'Wallpaper Engine Team', 'publisher': 'Wallpaper Engine Team', 'score_rank': '', 'positive': 858998, 'negative': 17212, 'userscore': 0, 'owners': '20,000,000 .. 50,000,000', 'average_forever': 4357, 'average_2weeks': 151, 'median_forever': 1220, 'median_2weeks': 83, 'price': '499', 'initialprice': '499', 'discount': '0', 'ccu': 61715}, {'appid': 4000, 'name': \"Garry's Mod\", 'developer': 'Facepunch Studios', 'publisher': 'Valve', 'score_rank': '', 'positive': 1109478, 'negative': 36813, 'userscore': 0, 'owners': '20,000,000 .. 50,000,000', 'average_forever': 3601, 'average_2weeks': 1, 'median_forever': 2289, 'median_2weeks': 1, 'price': '999', 'initialprice': '999', 'discount': '0', 'ccu': 20023}, {'appid': 359550, 'name': \"Tom Clancy's Rainbow Six Siege\", 'developer': 'Ubisoft Montreal', 'publisher': 'Ubisoft', 'score_rank': '', 'positive': 1157904, 'negative': 220074, 'userscore': 0, 'owners': '20,000,000 .. 50,000,000', 'average_forever': 17408, 'average_2weeks': 447, 'median_forever': 3231, 'median_2weeks': 447, 'price': '1999', 'initialprice': '1999', 'discount': '0', 'ccu': 104325}, {'appid': 1085660, 'name': 'Destiny 2', 'developer': 'Bungie', 'publisher': 'Bungie', 'score_rank': '', 'positive': 495498, 'negative': 126180, 'userscore': 0, 'owners': '20,000,000 .. 50,000,000', 'average_forever': 5058, 'average_2weeks': 0, 'median_forever': 703, 'median_2weeks': 0, 'price': '0', 'initialprice': '0', 'discount': '0', 'ccu': 36160}, {'appid': 252490, 'name': 'Rust', 'developer': 'Facepunch Studios', 'publisher': 'Facepunch Studios', 'score_rank': '', 'positive': 1048479, 'negative': 152980, 'userscore': 0, 'owners': '20,000,000 .. 50,000,000', 'average_forever': 12414, 'average_2weeks': 0, 'median_forever': 1153, 'median_2weeks': 0, 'price': '3999', 'initialprice': '3999', 'discount': '0', 'ccu': 125074}, {'appid': 346110, 'name': 'ARK: Survival Evolved', 'developer': 'Studio Wildcard, Instinct Games, Efecto Studios, Virtual Basement LLC', 'publisher': 'Studio Wildcard, Snail Games USA', 'score_rank': '', 'positive': 605324, 'negative': 117451, 'userscore': 0, 'owners': '20,000,000 .. 50,000,000', 'average_forever': 1815, 'average_2weeks': 0, 'median_forever': 388, 'median_2weeks': 0, 'price': '1499', 'initialprice': '1499', 'discount': '0', 'ccu': 21105}, {'appid': 892970, 'name': 'Valheim', 'developer': 'Iron Gate AB', 'publisher': 'Coffee Stain Publishing', 'score_rank': '', 'positive': 464323, 'negative': 27564, 'userscore': 0, 'owners': '20,000,000 .. 50,000,000', 'average_forever': 2406, 'average_2weeks': 615, 'median_forever': 1802, 'median_2weeks': 615, 'price': '999', 'initialprice': '1999', 'discount': '50', 'ccu': 28074}, {'appid': 1091500, 'name': 'Cyberpunk 2077', 'developer': 'CD PROJEKT RED', 'publisher': 'CD PROJEKT RED', 'score_rank': '', 'positive': 693646, 'negative': 131951, 'userscore': 0, 'owners': '20,000,000 .. 50,000,000', 'average_forever': 2884, 'average_2weeks': 4504, 'median_forever': 2373, 'median_2weeks': 4504, 'price': '2399', 'initialprice': '5999', 'discount': '60', 'ccu': 30077}, {'appid': 218620, 'name': 'PAYDAY 2', 'developer': 'OVERKILL - a Starbreeze Studio.', 'publisher': 'Starbreeze Publishing AB', 'score_rank': '', 'positive': 593655, 'negative': 68750, 'userscore': 0, 'owners': '20,000,000 .. 50,000,000', 'average_forever': 1912, 'average_2weeks': 0, 'median_forever': 395, 'median_2weeks': 0, 'price': '999', 'initialprice': '999', 'discount': '0', 'ccu': 14132}, {'appid': 901583, 'name': 'Grand Theft Auto IV: Complete Edition', 'developer': 'Rockstar North, Rockstar Toronto', 'publisher': 'Rockstar Games', 'score_rank': '', 'positive': 141173, 'negative': 30293, 'userscore': 0, 'owners': '20,000,000 .. 50,000,000', 'average_forever': 0, 'average_2weeks': 0, 'median_forever': 0, 'median_2weeks': 0, 'price': '0', 'initialprice': '0', 'discount': '0', 'ccu': 0}, {'appid': 238960, 'name': 'Path of Exile', 'developer': 'Grinding Gear Games', 'publisher': 'Grinding Gear Games', 'score_rank': '', 'positive': 208612, 'negative': 25036, 'userscore': 0, 'owners': '20,000,000 .. 50,000,000', 'average_forever': 17670, 'average_2weeks': 0, 'median_forever': 522, 'median_2weeks': 0, 'price': '0', 'initialprice': '0', 'discount': '0', 'ccu': 13512}, {'appid': 242760, 'name': 'The Forest', 'developer': 'Endnight Games Ltd', 'publisher': 'Endnight Games Ltd', 'score_rank': '', 'positive': 591276, 'negative': 27619, 'userscore': 0, 'owners': '20,000,000 .. 50,000,000', 'average_forever': 1514, 'average_2weeks': 0, 'median_forever': 1421, 'median_2weeks': 0, 'price': '1999', 'initialprice': '1999', 'discount': '0', 'ccu': 10110}, {'appid': 322330, 'name': \"Don't Starve Together\", 'developer': 'Klei Entertainment', 'publisher': 'Klei Entertainment', 'score_rank': '', 'positive': 469172, 'negative': 22710, 'userscore': 0, 'owners': '20,000,000 .. 50,000,000', 'average_forever': 3330, 'average_2weeks': 0, 'median_forever': 976, 'median_2weeks': 0, 'price': '1499', 'initialprice': '1499', 'discount': '0', 'ccu': 20406}, {'appid': 1203220, 'name': 'NARAKA: BLADEPOINT', 'developer': '24 Entertainment', 'publisher': 'NetEase Games Global', 'score_rank': '', 'positive': 223417, 'negative': 94615, 'userscore': 0, 'owners': '20,000,000 .. 50,000,000', 'average_forever': 4245, 'average_2weeks': 57, 'median_forever': 1976, 'median_2weeks': 57, 'price': '0', 'initialprice': '0', 'discount': '0', 'ccu': 31742}, {'appid': 899770, 'name': 'Last Epoch', 'developer': 'Eleventh Hour Games', 'publisher': 'Eleventh Hour Games', 'score_rank': '', 'positive': 78123, 'negative': 22977, 'userscore': 0, 'owners': '20,000,000 .. 50,000,000', 'average_forever': 7999, 'average_2weeks': 0, 'median_forever': 11932, 'median_2weeks': 0, 'price': '3499', 'initialprice': '3499', 'discount': '0', 'ccu': 2717}, {'appid': 413150, 'name': 'Stardew Valley', 'developer': 'ConcernedApe', 'publisher': 'ConcernedApe', 'score_rank': '', 'positive': 849454, 'negative': 13533, 'userscore': 0, 'owners': '20,000,000 .. 50,000,000', 'average_forever': 4665, 'average_2weeks': 0, 'median_forever': 3085, 'median_2weeks': 0, 'price': '1499', 'initialprice': '1499', 'discount': '0', 'ccu': 57032}, {'appid': 340, 'name': 'Half-Life 2: Lost Coast', 'developer': 'Valve', 'publisher': 'Valve', 'score_rank': '', 'positive': 12258, 'negative': 1470, 'userscore': 0, 'owners': '20,000,000 .. 50,000,000', 'average_forever': 0, 'average_2weeks': 0, 'median_forever': 0, 'median_2weeks': 0, 'price': '199', 'initialprice': '1999', 'discount': '90', 'ccu': 5}, {'appid': 381210, 'name': 'Dead by Daylight', 'developer': 'Behaviour Interactive Inc.', 'publisher': 'Behaviour Interactive Inc.', 'score_rank': '', 'positive': 620024, 'negative': 164405, 'userscore': 0, 'owners': '20,000,000 .. 50,000,000', 'average_forever': 3848, 'average_2weeks': 0, 'median_forever': 1564, 'median_2weeks': 0, 'price': '1999', 'initialprice': '1999', 'discount': '0', 'ccu': 36188}, {'appid': 945360, 'name': 'Among Us', 'developer': 'Innersloth', 'publisher': 'Innersloth', 'score_rank': '', 'positive': 641435, 'negative': 56898, 'userscore': 0, 'owners': '20,000,000 .. 50,000,000', 'average_forever': 1465, 'average_2weeks': 0, 'median_forever': 1335, 'median_2weeks': 0, 'price': '499', 'initialprice': '499', 'discount': '0', 'ccu': 5495}, {'appid': 1097150, 'name': 'Fall Guys: Ultimate Knockout', 'developer': 'Mediatonic', 'publisher': 'Ravenscourt', 'score_rank': '', 'positive': 385809, 'negative': 88753, 'userscore': 0, 'owners': '20,000,000 .. 50,000,000', 'average_forever': 1231, 'average_2weeks': 0, 'median_forever': 339, 'median_2weeks': 0, 'price': '0', 'initialprice': '0', 'discount': '0', 'ccu': 710}, {'appid': 292030, 'name': 'The Witcher 3: Wild Hunt', 'developer': 'CD PROJEKT RED', 'publisher': 'CD PROJEKT RED', 'score_rank': '', 'positive': 792414, 'negative': 32017, 'userscore': 0, 'owners': '10,000,000 .. 20,000,000', 'average_forever': 2149, 'average_2weeks': 0, 'median_forever': 671, 'median_2weeks': 0, 'price': '799', 'initialprice': '3999', 'discount': '80', 'ccu': 12503}, {'appid': 227300, 'name': 'Euro Truck Simulator 2', 'developer': 'SCS Software', 'publisher': 'SCS Software', 'score_rank': '', 'positive': 828301, 'negative': 22433, 'userscore': 0, 'owners': '10,000,000 .. 20,000,000', 'average_forever': 3769, 'average_2weeks': 151, 'median_forever': 2872, 'median_2weeks': 165, 'price': '1999', 'initialprice': '1999', 'discount': '0', 'ccu': 27020}, {'appid': 444090, 'name': 'Paladins', 'developer': 'Evil Mojo Games', 'publisher': 'Hi-Rez Studios', 'score_rank': '', 'positive': 294533, 'negative': 52099, 'userscore': 0, 'owners': '10,000,000 .. 20,000,000', 'average_forever': 2723, 'average_2weeks': 0, 'median_forever': 487, 'median_2weeks': 0, 'price': '0', 'initialprice': '0', 'discount': '0', 'ccu': 1492}, {'appid': 552990, 'name': 'World of Warships', 'developer': 'Wargaming Group Limited', 'publisher': 'Wargaming Group Limited', 'score_rank': '', 'positive': 111999, 'negative': 33149, 'userscore': 0, 'owners': '10,000,000 .. 20,000,000', 'average_forever': 304, 'average_2weeks': 0, 'median_forever': 332, 'median_2weeks': 0, 'price': '0', 'initialprice': '0', 'discount': '0', 'ccu': 5495}, {'appid': 438100, 'name': 'VRChat', 'developer': 'VRChat Inc.', 'publisher': 'VRChat Inc.', 'score_rank': '', 'positive': 178275, 'negative': 57738, 'userscore': 0, 'owners': '10,000,000 .. 20,000,000', 'average_forever': 3554, 'average_2weeks': 32, 'median_forever': 54, 'median_2weeks': 32, 'price': '0', 'initialprice': '0', 'discount': '0', 'ccu': 39277}, {'appid': 320, 'name': 'Half-Life 2: Deathmatch', 'developer': 'Valve', 'publisher': 'Valve', 'score_rank': '', 'positive': 12761, 'negative': 1303, 'userscore': 0, 'owners': '10,000,000 .. 20,000,000', 'average_forever': 296, 'average_2weeks': 0, 'median_forever': 441, 'median_2weeks': 0, 'price': '199', 'initialprice': '1999', 'discount': '90', 'ccu': 157}, {'appid': 272060, 'name': 'Serena', 'developer': 'Senscape', 'publisher': 'Senscape', 'score_rank': '', 'positive': 4942, 'negative': 1475, 'userscore': 0, 'owners': '10,000,000 .. 20,000,000', 'average_forever': 0, 'average_2weeks': 0, 'median_forever': 0, 'median_2weeks': 0, 'price': '0', 'initialprice': '0', 'discount': '0', 'ccu': 2}, {'appid': 739630, 'name': 'Phasmophobia', 'developer': 'Kinetic Games', 'publisher': 'Kinetic Games', 'score_rank': '', 'positive': 727401, 'negative': 31543, 'userscore': 0, 'owners': '10,000,000 .. 20,000,000', 'average_forever': 2044, 'average_2weeks': 20, 'median_forever': 1279, 'median_2weeks': 20, 'price': '1999', 'initialprice': '1999', 'discount': '0', 'ccu': 19240}, {'appid': 990080, 'name': 'Hogwarts Legacy', 'developer': 'Avalanche Software', 'publisher': 'Warner Bros. Games', 'score_rank': '', 'positive': 282771, 'negative': 30204, 'userscore': 0, 'owners': '10,000,000 .. 20,000,000', 'average_forever': 2323, 'average_2weeks': 0, 'median_forever': 3147, 'median_2weeks': 0, 'price': '1499', 'initialprice': '5999', 'discount': '75', 'ccu': 13651}, {'appid': 620, 'name': 'Portal 2', 'developer': 'Valve', 'publisher': 'Valve', 'score_rank': '', 'positive': 422197, 'negative': 5576, 'userscore': 0, 'owners': '10,000,000 .. 20,000,000', 'average_forever': 640, 'average_2weeks': 0, 'median_forever': 509, 'median_2weeks': 0, 'price': '199', 'initialprice': '999', 'discount': '80', 'ccu': 2563}, {'appid': 227940, 'name': 'Heroes & Generals', 'developer': 'TLM Partners', 'publisher': 'TLM Partners', 'score_rank': '', 'positive': 96599, 'negative': 46361, 'userscore': 0, 'owners': '10,000,000 .. 20,000,000', 'average_forever': 141, 'average_2weeks': 0, 'median_forever': 49, 'median_2weeks': 0, 'price': '0', 'initialprice': '0', 'discount': '0', 'ccu': 1}, {'appid': 70, 'name': 'Half-Life', 'developer': 'Valve', 'publisher': 'Valve', 'score_rank': '', 'positive': 140981, 'negative': 5044, 'userscore': 0, 'owners': '10,000,000 .. 20,000,000', 'average_forever': 110, 'average_2weeks': 0, 'median_forever': 108, 'median_2weeks': 0, 'price': '199', 'initialprice': '999', 'discount': '80', 'ccu': 1070}, {'appid': 252950, 'name': 'Rocket League', 'developer': 'Psyonix LLC', 'publisher': 'Psyonix LLC', 'score_rank': '', 'positive': 509403, 'negative': 73236, 'userscore': 0, 'owners': '10,000,000 .. 20,000,000', 'average_forever': 29351, 'average_2weeks': 647, 'median_forever': 10136, 'median_2weeks': 647, 'price': '0', 'initialprice': '0', 'discount': '0', 'ccu': 29103}, {'appid': 1966720, 'name': 'Lethal Company', 'developer': 'Zeekerss', 'publisher': 'Zeekerss', 'score_rank': '', 'positive': 468218, 'negative': 13189, 'userscore': 0, 'owners': '10,000,000 .. 20,000,000', 'average_forever': 721, 'average_2weeks': 0, 'median_forever': 433, 'median_2weeks': 0, 'price': '999', 'initialprice': '999', 'discount': '0', 'ccu': 8173}, {'appid': 1517290, 'name': 'Battlefield 2042', 'developer': 'DICE', 'publisher': 'Electronic Arts', 'score_rank': '', 'positive': 136354, 'negative': 156554, 'userscore': 0, 'owners': '10,000,000 .. 20,000,000', 'average_forever': 1530, 'average_2weeks': 0, 'median_forever': 932, 'median_2weeks': 0, 'price': '479', 'initialprice': '5999', 'discount': '92', 'ccu': 8799}, {'appid': 1240440, 'name': 'Halo Infinite', 'developer': '343 Industries', 'publisher': 'Xbox Game Studios', 'score_rank': '', 'positive': 122898, 'negative': 53093, 'userscore': 0, 'owners': '10,000,000 .. 20,000,000', 'average_forever': 443, 'average_2weeks': 0, 'median_forever': 115, 'median_2weeks': 0, 'price': '0', 'initialprice': '0', 'discount': '0', 'ccu': 3652}, {'appid': 582010, 'name': 'Monster Hunter: World', 'developer': 'CAPCOM Co., Ltd.', 'publisher': 'CAPCOM Co., Ltd.', 'score_rank': '', 'positive': 428814, 'negative': 58700, 'userscore': 0, 'owners': '10,000,000 .. 20,000,000', 'average_forever': 13181, 'average_2weeks': 24, 'median_forever': 7699, 'median_2weeks': 24, 'price': '2999', 'initialprice': '2999', 'discount': '0', 'ccu': 16461}, {'appid': 240, 'name': 'Counter-Strike: Source', 'developer': 'Valve', 'publisher': 'Valve', 'score_rank': '', 'positive': 173679, 'negative': 6730, 'userscore': 0, 'owners': '10,000,000 .. 20,000,000', 'average_forever': 778, 'average_2weeks': 0, 'median_forever': 155, 'median_2weeks': 0, 'price': '199', 'initialprice': '999', 'discount': '80', 'ccu': 15994}, {'appid': 108600, 'name': 'Project Zomboid', 'developer': 'The Indie Stone', 'publisher': 'The Indie Stone', 'score_rank': '', 'positive': 342330, 'negative': 21182, 'userscore': 0, 'owners': '10,000,000 .. 20,000,000', 'average_forever': 6447, 'average_2weeks': 14, 'median_forever': 1432, 'median_2weeks': 14, 'price': '1999', 'initialprice': '1999', 'discount': '0', 'ccu': 24578}, {'appid': 386360, 'name': 'SMITE', 'developer': 'Titan Forge Games', 'publisher': 'Hi-Rez Studios', 'score_rank': '', 'positive': 94356, 'negative': 25391, 'userscore': 0, 'owners': '10,000,000 .. 20,000,000', 'average_forever': 10225, 'average_2weeks': 0, 'median_forever': 124, 'median_2weeks': 0, 'price': '0', 'initialprice': '0', 'discount': '0', 'ccu': 2224}, {'appid': 10, 'name': 'Counter-Strike', 'developer': 'Valve', 'publisher': 'Valve', 'score_rank': '', 'positive': 241945, 'negative': 6369, 'userscore': 0, 'owners': '10,000,000 .. 20,000,000', 'average_forever': 11378, 'average_2weeks': 0, 'median_forever': 168, 'median_2weeks': 0, 'price': '199', 'initialprice': '999', 'discount': '80', 'ccu': 10838}, {'appid': 648800, 'name': 'Raft', 'developer': 'Redbeet Interactive', 'publisher': 'Axolot Games', 'score_rank': '', 'positive': 318008, 'negative': 22648, 'userscore': 0, 'owners': '10,000,000 .. 20,000,000', 'average_forever': 1175, 'average_2weeks': 0, 'median_forever': 306, 'median_2weeks': 0, 'price': '1999', 'initialprice': '1999', 'discount': '0', 'ccu': 9026}, {'appid': 1468810, 'name': '鬼谷八荒 Tale of Immortal', 'developer': '鬼谷工作室', 'publisher': '鬼谷工作室, Lightning Games', 'score_rank': '', 'positive': 120385, 'negative': 106091, 'userscore': 0, 'owners': '10,000,000 .. 20,000,000', 'average_forever': 3668, 'average_2weeks': 0, 'median_forever': 3891, 'median_2weeks': 0, 'price': '1399', 'initialprice': '1999', 'discount': '30', 'ccu': 3297}, {'appid': 444200, 'name': 'World of Tanks Blitz', 'developer': 'Wargaming Group Limited', 'publisher': 'Wargaming Group Limited', 'score_rank': '', 'positive': 115857, 'negative': 31385, 'userscore': 0, 'owners': '10,000,000 .. 20,000,000', 'average_forever': 2515, 'average_2weeks': 0, 'median_forever': 9, 'median_2weeks': 0, 'price': '0', 'initialprice': '0', 'discount': '0', 'ccu': 5375}, {'appid': 755790, 'name': 'Ring of Elysium', 'developer': 'Aurora Studio', 'publisher': 'TCH Scarlet Limited', 'score_rank': '', 'positive': 74454, 'negative': 25562, 'userscore': 0, 'owners': '10,000,000 .. 20,000,000', 'average_forever': 790, 'average_2weeks': 0, 'median_forever': 270, 'median_2weeks': 0, 'price': '0', 'initialprice': '0', 'discount': '0', 'ccu': 2}, {'appid': 1174180, 'name': 'Red Dead Redemption 2', 'developer': 'Rockstar Games', 'publisher': 'Rockstar Games', 'score_rank': '', 'positive': 644612, 'negative': 55287, 'userscore': 0, 'owners': '10,000,000 .. 20,000,000', 'average_forever': 1900, 'average_2weeks': 9, 'median_forever': 820, 'median_2weeks': 9, 'price': '5999', 'initialprice': '5999', 'discount': '0', 'ccu': 30332}, {'appid': 250900, 'name': 'The Binding of Isaac: Rebirth', 'developer': 'Nicalis, Inc., Edmund McMillen', 'publisher': 'Nicalis, Inc.', 'score_rank': '', 'positive': 325926, 'negative': 8821, 'userscore': 0, 'owners': '10,000,000 .. 20,000,000', 'average_forever': 1279, 'average_2weeks': 0, 'median_forever': 2457, 'median_2weeks': 0, 'price': '1499', 'initialprice': '1499', 'discount': '0', 'ccu': 22219}, {'appid': 550650, 'name': 'Black Squad', 'developer': 'VALOFE, NS STUDIO', 'publisher': 'VALOFE', 'score_rank': '', 'positive': 62077, 'negative': 19641, 'userscore': 0, 'owners': '10,000,000 .. 20,000,000', 'average_forever': 158, 'average_2weeks': 0, 'median_forever': 62, 'median_2weeks': 0, 'price': '0', 'initialprice': '0', 'discount': '0', 'ccu': 294}, {'appid': 367520, 'name': 'Hollow Knight', 'developer': 'Team Cherry', 'publisher': 'Team Cherry', 'score_rank': '', 'positive': 390673, 'negative': 11885, 'userscore': 0, 'owners': '10,000,000 .. 20,000,000', 'average_forever': 3286, 'average_2weeks': 0, 'median_forever': 1374, 'median_2weeks': 0, 'price': '1499', 'initialprice': '1499', 'discount': '0', 'ccu': 6836}, {'appid': 301520, 'name': 'Robocraft', 'developer': 'Freejam', 'publisher': 'Freejam', 'score_rank': '', 'positive': 86255, 'negative': 31870, 'userscore': 0, 'owners': '10,000,000 .. 20,000,000', 'average_forever': 2678, 'average_2weeks': 0, 'median_forever': 485, 'median_2weeks': 0, 'price': '0', 'initialprice': '0', 'discount': '0', 'ccu': 10}, {'appid': 239140, 'name': 'Dying Light', 'developer': 'Techland', 'publisher': 'Techland', 'score_rank': '', 'positive': 429646, 'negative': 21641, 'userscore': 0, 'owners': '10,000,000 .. 20,000,000', 'average_forever': 1437, 'average_2weeks': 0, 'median_forever': 1044, 'median_2weeks': 0, 'price': '899', 'initialprice': '2999', 'discount': '70', 'ccu': 4606}, {'appid': 477160, 'name': 'Human Fall Flat', 'developer': 'No Brakes Games', 'publisher': 'Curve Games', 'score_rank': '', 'positive': 200594, 'negative': 11244, 'userscore': 0, 'owners': '10,000,000 .. 20,000,000', 'average_forever': 497, 'average_2weeks': 0, 'median_forever': 360, 'median_2weeks': 0, 'price': '599', 'initialprice': '1999', 'discount': '70', 'ccu': 1161}, {'appid': 100, 'name': 'Counter-Strike: Condition Zero', 'developer': 'Valve', 'publisher': 'Valve', 'score_rank': '', 'positive': 13442, 'negative': 1535, 'userscore': 0, 'owners': '10,000,000 .. 20,000,000', 'average_forever': 68, 'average_2weeks': 0, 'median_forever': 68, 'median_2weeks': 0, 'price': '199', 'initialprice': '999', 'discount': '80', 'ccu': 49}, {'appid': 251570, 'name': '7 Days to Die', 'developer': 'The Fun Pimps', 'publisher': 'The Fun Pimps Entertainment LLC', 'score_rank': '', 'positive': 323304, 'negative': 41591, 'userscore': 0, 'owners': '10,000,000 .. 20,000,000', 'average_forever': 3965, 'average_2weeks': 0, 'median_forever': 3118, 'median_2weeks': 0, 'price': '4499', 'initialprice': '4499', 'discount': '0', 'ccu': 22827}, {'appid': 814380, 'name': 'Sekiro: Shadows Die Twice - GOTY Edition', 'developer': 'FromSoftware, Inc.', 'publisher': 'Activision (Excluding Japan and Asia), FromSoftware, Inc. (Japan), 方块游戏 (Asia)', 'score_rank': '', 'positive': 301179, 'negative': 14909, 'userscore': 0, 'owners': '10,000,000 .. 20,000,000', 'average_forever': 1417, 'average_2weeks': 0, 'median_forever': 1405, 'median_2weeks': 0, 'price': '5999', 'initialprice': '5999', 'discount': '0', 'ccu': 4945}, {'appid': 1222670, 'name': 'The Sims 4', 'developer': 'Maxis', 'publisher': 'Electronic Arts', 'score_rank': '', 'positive': 144034, 'negative': 20870, 'userscore': 0, 'owners': '10,000,000 .. 20,000,000', 'average_forever': 94, 'average_2weeks': 0, 'median_forever': 123, 'median_2weeks': 0, 'price': '0', 'initialprice': '0', 'discount': '0', 'ccu': 35535}, {'appid': 417910, 'name': 'Street Warriors Online', 'developer': 'Crazy Rocks Studios', 'publisher': 'Crazy Rocks Studios', 'score_rank': '', 'positive': 941, 'negative': 697, 'userscore': 0, 'owners': '10,000,000 .. 20,000,000', 'average_forever': 61, 'average_2weeks': 0, 'median_forever': 61, 'median_2weeks': 0, 'price': '199', 'initialprice': '199', 'discount': '0', 'ccu': 0}, {'appid': 433850, 'name': 'Z1 Battle Royale', 'developer': 'Daybreak Game Company', 'publisher': 'Daybreak Game Company', 'score_rank': '', 'positive': 113849, 'negative': 90460, 'userscore': 0, 'owners': '10,000,000 .. 20,000,000', 'average_forever': 1649, 'average_2weeks': 0, 'median_forever': 141, 'median_2weeks': 0, 'price': '0', 'initialprice': '0', 'discount': '0', 'ccu': 913}, {'appid': 594650, 'name': 'Hunt: Showdown 1896', 'developer': 'Crytek', 'publisher': 'Crytek', 'score_rank': '', 'positive': 178680, 'negative': 65704, 'userscore': 0, 'owners': '10,000,000 .. 20,000,000', 'average_forever': 316, 'average_2weeks': 0, 'median_forever': 459, 'median_2weeks': 0, 'price': '1499', 'initialprice': '2999', 'discount': '50', 'ccu': 10701}, {'appid': 220, 'name': 'Half-Life 2', 'developer': 'Valve', 'publisher': 'Valve', 'score_rank': '', 'positive': 233724, 'negative': 5755, 'userscore': 0, 'owners': '10,000,000 .. 20,000,000', 'average_forever': 1144, 'average_2weeks': 0, 'median_forever': 345, 'median_2weeks': 0, 'price': '199', 'initialprice': '999', 'discount': '80', 'ccu': 2406}, {'appid': 230410, 'name': 'Warframe', 'developer': 'Digital Extremes', 'publisher': 'Digital Extremes', 'score_rank': '', 'positive': 538255, 'negative': 79694, 'userscore': 0, 'owners': '10,000,000 .. 20,000,000', 'average_forever': 11797, 'average_2weeks': 2429, 'median_forever': 809, 'median_2weeks': 4696, 'price': '0', 'initialprice': '0', 'discount': '0', 'ccu': 77138}, {'appid': 219990, 'name': 'Grim Dawn', 'developer': 'Crate Entertainment', 'publisher': 'Crate Entertainment', 'score_rank': '', 'positive': 92513, 'negative': 6176, 'userscore': 0, 'owners': '10,000,000 .. 20,000,000', 'average_forever': 827, 'average_2weeks': 0, 'median_forever': 655, 'median_2weeks': 0, 'price': '2499', 'initialprice': '2499', 'discount': '0', 'ccu': 2761}, {'appid': 261550, 'name': 'Mount & Blade II: Bannerlord', 'developer': 'TaleWorlds Entertainment', 'publisher': 'TaleWorlds Entertainment', 'score_rank': '', 'positive': 229002, 'negative': 31784, 'userscore': 0, 'owners': '10,000,000 .. 20,000,000', 'average_forever': 244, 'average_2weeks': 0, 'median_forever': 244, 'median_2weeks': 0, 'price': '4999', 'initialprice': '4999', 'discount': '0', 'ccu': 14438}, {'appid': 8930, 'name': \"Sid Meier's Civilization V\", 'developer': 'Firaxis Games, Aspyr (Mac), Aspyr (Linux)', 'publisher': '2K, Aspyr (Mac), Aspyr (Linux)', 'score_rank': '', 'positive': 194639, 'negative': 8509, 'userscore': 0, 'owners': '10,000,000 .. 20,000,000', 'average_forever': 8223, 'average_2weeks': 0, 'median_forever': 6382, 'median_2weeks': 0, 'price': '2999', 'initialprice': '2999', 'discount': '0', 'ccu': 15347}, {'appid': 304050, 'name': 'Trove', 'developer': 'gamigo US Inc.', 'publisher': 'gamigo US Inc.', 'score_rank': '', 'positive': 74118, 'negative': 18207, 'userscore': 0, 'owners': '10,000,000 .. 20,000,000', 'average_forever': 431, 'average_2weeks': 0, 'median_forever': 329, 'median_2weeks': 0, 'price': '0', 'initialprice': '0', 'discount': '0', 'ccu': 832}, {'appid': 107410, 'name': 'Arma 3', 'developer': 'Bohemia Interactive', 'publisher': 'Bohemia Interactive', 'score_rank': '', 'positive': 253678, 'negative': 26842, 'userscore': 0, 'owners': '10,000,000 .. 20,000,000', 'average_forever': 5408, 'average_2weeks': 0, 'median_forever': 2874, 'median_2weeks': 0, 'price': '599', 'initialprice': '2999', 'discount': '80', 'ccu': 10579}, {'appid': 377160, 'name': 'Fallout 4', 'developer': 'Bethesda Game Studios', 'publisher': 'Bethesda Softworks', 'score_rank': '', 'positive': 322253, 'negative': 65891, 'userscore': 0, 'owners': '10,000,000 .. 20,000,000', 'average_forever': 2001, 'average_2weeks': 0, 'median_forever': 272, 'median_2weeks': 0, 'price': '1999', 'initialprice': '1999', 'discount': '0', 'ccu': 15750}, {'appid': 532210, 'name': 'Life is Strange 2', 'developer': 'DONTNOD Entertainment, Feral Interactive (Mac), Feral Interactive (Linux)', 'publisher': 'Square Enix, Feral Interactive (Mac), Feral Interactive (Linux)', 'score_rank': '', 'positive': 30888, 'negative': 4970, 'userscore': 0, 'owners': '10,000,000 .. 20,000,000', 'average_forever': 397, 'average_2weeks': 0, 'median_forever': 241, 'median_2weeks': 0, 'price': '3196', 'initialprice': '3196', 'discount': '0', 'ccu': 251}, {'appid': 255710, 'name': 'Cities: Skylines', 'developer': 'Colossal Order Ltd.', 'publisher': 'Paradox Interactive', 'score_rank': '', 'positive': 251940, 'negative': 18908, 'userscore': 0, 'owners': '10,000,000 .. 20,000,000', 'average_forever': 9679, 'average_2weeks': 0, 'median_forever': 696, 'median_2weeks': 0, 'price': '299', 'initialprice': '2999', 'discount': '90', 'ccu': 9878}, {'appid': 1326470, 'name': 'Sons Of The Forest', 'developer': 'Endnight Games Ltd', 'publisher': 'Newnight ', 'score_rank': '', 'positive': 213621, 'negative': 30183, 'userscore': 0, 'owners': '10,000,000 .. 20,000,000', 'average_forever': 2627, 'average_2weeks': 4024, 'median_forever': 3013, 'median_2weeks': 4024, 'price': '2999', 'initialprice': '2999', 'discount': '0', 'ccu': 16380}, {'appid': 289070, 'name': 'Sid Meier’s Civilization VI', 'developer': 'Firaxis Games, Aspyr (Mac), Aspyr (Linux)', 'publisher': '2K, Aspyr (Mac), Aspyr (Linux)', 'score_rank': '', 'positive': 300219, 'negative': 45565, 'userscore': 0, 'owners': '10,000,000 .. 20,000,000', 'average_forever': 10541, 'average_2weeks': 0, 'median_forever': 3337, 'median_2weeks': 0, 'price': '5999', 'initialprice': '5999', 'discount': '0', 'ccu': 27863}, {'appid': 526870, 'name': 'Satisfactory', 'developer': 'Coffee Stain Studios', 'publisher': 'Coffee Stain Publishing', 'score_rank': '', 'positive': 218510, 'negative': 6499, 'userscore': 0, 'owners': '5,000,000 .. 10,000,000', 'average_forever': 10043, 'average_2weeks': 0, 'median_forever': 1328, 'median_2weeks': 0, 'price': '2799', 'initialprice': '3999', 'discount': '30', 'ccu': 20980}, {'appid': 1238810, 'name': 'Battlefield V', 'developer': 'DICE', 'publisher': 'Electronic Arts', 'score_rank': '', 'positive': 173357, 'negative': 71141, 'userscore': 0, 'owners': '5,000,000 .. 10,000,000', 'average_forever': 3881, 'average_2weeks': 0, 'median_forever': 342, 'median_2weeks': 0, 'price': '249', 'initialprice': '4999', 'discount': '95', 'ccu': 5793}, {'appid': 60, 'name': 'Ricochet', 'developer': 'Valve', 'publisher': 'Valve', 'score_rank': '', 'positive': 4924, 'negative': 1035, 'userscore': 0, 'owners': '5,000,000 .. 10,000,000', 'average_forever': 0, 'average_2weeks': 0, 'median_forever': 0, 'median_2weeks': 0, 'price': '124', 'initialprice': '499', 'discount': '75', 'ccu': 6}, {'appid': 221100, 'name': 'DayZ', 'developer': 'Bohemia Interactive', 'publisher': 'Bohemia Interactive', 'score_rank': '', 'positive': 323726, 'negative': 99250, 'userscore': 0, 'owners': '5,000,000 .. 10,000,000', 'average_forever': 1835, 'average_2weeks': 0, 'median_forever': 501, 'median_2weeks': 0, 'price': '5999', 'initialprice': '5999', 'discount': '0', 'ccu': 45720}, {'appid': 1089350, 'name': 'NBA 2K20', 'developer': 'Visual Concepts', 'publisher': '2K', 'score_rank': '', 'positive': 30280, 'negative': 30426, 'userscore': 0, 'owners': '5,000,000 .. 10,000,000', 'average_forever': 12, 'average_2weeks': 0, 'median_forever': 12, 'median_2weeks': 0, 'price': '0', 'initialprice': '0', 'discount': '0', 'ccu': 201}, {'appid': 204360, 'name': 'Castle Crashers', 'developer': 'The Behemoth', 'publisher': 'The Behemoth', 'score_rank': '', 'positive': 119458, 'negative': 4807, 'userscore': 0, 'owners': '5,000,000 .. 10,000,000', 'average_forever': 3030, 'average_2weeks': 0, 'median_forever': 224, 'median_2weeks': 0, 'price': '449', 'initialprice': '1499', 'discount': '70', 'ccu': 788}, {'appid': 632360, 'name': 'Risk of Rain 2', 'developer': 'Hopoo Games', 'publisher': 'Gearbox Publishing', 'score_rank': '', 'positive': 287294, 'negative': 20115, 'userscore': 0, 'owners': '5,000,000 .. 10,000,000', 'average_forever': 3710, 'average_2weeks': 139, 'median_forever': 2371, 'median_2weeks': 139, 'price': '2499', 'initialprice': '2499', 'discount': '0', 'ccu': 7945}, {'appid': 96000, 'name': 'The Tiny Bang Story', 'developer': 'Colibri Games', 'publisher': 'Colibri Games', 'score_rank': '', 'positive': 5607, 'negative': 815, 'userscore': 0, 'owners': '5,000,000 .. 10,000,000', 'average_forever': 323, 'average_2weeks': 0, 'median_forever': 362, 'median_2weeks': 0, 'price': '99', 'initialprice': '499', 'discount': '80', 'ccu': 11}, {'appid': 275850, 'name': \"No Man's Sky\", 'developer': 'Hello Games', 'publisher': 'Hello Games', 'score_rank': '', 'positive': 288185, 'negative': 59304, 'userscore': 0, 'owners': '5,000,000 .. 10,000,000', 'average_forever': 4588, 'average_2weeks': 0, 'median_forever': 2300, 'median_2weeks': 0, 'price': '5999', 'initialprice': '5999', 'discount': '0', 'ccu': 10454}, {'appid': 1811260, 'name': 'EA SPORTS FIFA 23', 'developer': 'EA Canada &amp; EA Romania', 'publisher': 'Electronic Arts', 'score_rank': '', 'positive': 86178, 'negative': 65309, 'userscore': 0, 'owners': '5,000,000 .. 10,000,000', 'average_forever': 11033, 'average_2weeks': 0, 'median_forever': 12210, 'median_2weeks': 0, 'price': '0', 'initialprice': '0', 'discount': '0', 'ccu': 1382}])"
      ]
     },
     "execution_count": 13,
     "metadata": {},
     "output_type": "execute_result"
    }
   ],
   "source": [
    "data"
   ]
  },
  {
   "cell_type": "code",
   "execution_count": 14,
   "id": "3862cfe8",
   "metadata": {},
   "outputs": [
    {
     "name": "stdout",
     "output_type": "stream",
     "text": [
      "{'appid': 570, 'name': 'Dota 2', 'developer': 'Valve', 'publisher': 'Valve', 'score_rank': '', 'positive': 2003648, 'negative': 453057, 'userscore': 0, 'owners': '200,000,000 .. 500,000,000', 'average_forever': 62824, 'average_2weeks': 792, 'median_forever': 823, 'median_2weeks': 1162, 'price': '0', 'initialprice': '0', 'discount': '0', 'ccu': 351407}\n",
      "{'appid': 730, 'name': 'Counter-Strike: Global Offensive', 'developer': 'Valve', 'publisher': 'Valve', 'score_rank': '', 'positive': 7513340, 'negative': 1141217, 'userscore': 0, 'owners': '100,000,000 .. 200,000,000', 'average_forever': 37924, 'average_2weeks': 479, 'median_forever': 7765, 'median_2weeks': 398, 'price': '0', 'initialprice': '0', 'discount': '0', 'ccu': 964715}\n",
      "{'appid': 578080, 'name': 'PUBG: BATTLEGROUNDS', 'developer': 'PUBG Corporation', 'publisher': 'KRAFTON, Inc.', 'score_rank': '', 'positive': 1493677, 'negative': 1026537, 'userscore': 0, 'owners': '50,000,000 .. 100,000,000', 'average_forever': 14871, 'average_2weeks': 868, 'median_forever': 5140, 'median_2weeks': 1268, 'price': '0', 'initialprice': '0', 'discount': '0', 'ccu': 163264}\n",
      "{'appid': 1623730, 'name': 'Palworld', 'developer': 'Pocketpair', 'publisher': 'Pocketpair', 'score_rank': '', 'positive': 351622, 'negative': 21887, 'userscore': 0, 'owners': '50,000,000 .. 100,000,000', 'average_forever': 3395, 'average_2weeks': 0, 'median_forever': 1905, 'median_2weeks': 0, 'price': '2999', 'initialprice': '2999', 'discount': '0', 'ccu': 30161}\n",
      "{'appid': 1172470, 'name': 'Apex Legends', 'developer': 'Respawn', 'publisher': 'Electronic Arts', 'score_rank': '', 'positive': 661077, 'negative': 323042, 'userscore': 0, 'owners': '50,000,000 .. 100,000,000', 'average_forever': 14223, 'average_2weeks': 0, 'median_forever': 989, 'median_2weeks': 0, 'price': '0', 'initialprice': '0', 'discount': '0', 'ccu': 68548}\n",
      "{'appid': 1063730, 'name': 'New World: Aeternum', 'developer': 'Amazon Games', 'publisher': 'Amazon Games', 'score_rank': '', 'positive': 196483, 'negative': 89814, 'userscore': 0, 'owners': '50,000,000 .. 100,000,000', 'average_forever': 2323, 'average_2weeks': 0, 'median_forever': 1732, 'median_2weeks': 0, 'price': '5999', 'initialprice': '5999', 'discount': '0', 'ccu': 7856}\n",
      "{'appid': 2358720, 'name': 'Black Myth: Wukong', 'developer': 'Game Science', 'publisher': 'Game Science', 'score_rank': '', 'positive': 1100678, 'negative': 37887, 'userscore': 0, 'owners': '50,000,000 .. 100,000,000', 'average_forever': 3444, 'average_2weeks': 0, 'median_forever': 3211, 'median_2weeks': 0, 'price': '5999', 'initialprice': '5999', 'discount': '0', 'ccu': 9964}\n",
      "{'appid': 1938090, 'name': 'Call of Duty: Modern Warfare II', 'developer': 'Treyarch, Raven Software, Beenox, High Moon Studios, Activision Shanghai, Sledgehammer Games, Infinity Ward, Demonware, Toys for Bob', 'publisher': 'Activision', 'score_rank': '', 'positive': 407076, 'negative': 287212, 'userscore': 0, 'owners': '50,000,000 .. 100,000,000', 'average_forever': 3672, 'average_2weeks': 0, 'median_forever': 868, 'median_2weeks': 0, 'price': '4899', 'initialprice': '6999', 'discount': '30', 'ccu': 50909}\n",
      "{'appid': 271590, 'name': 'Grand Theft Auto V Legacy', 'developer': 'Rockstar North', 'publisher': 'Rockstar Games', 'score_rank': '', 'positive': 1723885, 'negative': 250204, 'userscore': 0, 'owners': '50,000,000 .. 100,000,000', 'average_forever': 6263, 'average_2weeks': 0, 'median_forever': 3175, 'median_2weeks': 0, 'price': '0', 'initialprice': '0', 'discount': '0', 'ccu': 61352}\n",
      "{'appid': 550, 'name': 'Left 4 Dead 2', 'developer': 'Valve', 'publisher': 'Valve', 'score_rank': '', 'positive': 924827, 'negative': 23349, 'userscore': 0, 'owners': '50,000,000 .. 100,000,000', 'average_forever': 2557, 'average_2weeks': 55, 'median_forever': 309, 'median_2weeks': 55, 'price': '199', 'initialprice': '999', 'discount': '80', 'ccu': 31263}\n",
      "{'appid': 553850, 'name': 'HELLDIVERS 2', 'developer': 'Arrowhead Game Studios', 'publisher': 'PlayStation Publishing LLC', 'score_rank': '', 'positive': 746827, 'negative': 234620, 'userscore': 0, 'owners': '50,000,000 .. 100,000,000', 'average_forever': 2267, 'average_2weeks': 0, 'median_forever': 932, 'median_2weeks': 0, 'price': '3999', 'initialprice': '3999', 'discount': '0', 'ccu': 70286}\n",
      "{'appid': 1599340, 'name': 'Lost Ark', 'developer': 'Smilegate RPG', 'publisher': 'Amazon Games', 'score_rank': '', 'positive': 143461, 'negative': 58248, 'userscore': 0, 'owners': '50,000,000 .. 100,000,000', 'average_forever': 1865, 'average_2weeks': 0, 'median_forever': 1255, 'median_2weeks': 0, 'price': '0', 'initialprice': '0', 'discount': '0', 'ccu': 16222}\n",
      "{'appid': 304930, 'name': 'Unturned', 'developer': 'Smartly Dressed Games', 'publisher': 'Smartly Dressed Games', 'score_rank': '', 'positive': 504862, 'negative': 48389, 'userscore': 0, 'owners': '50,000,000 .. 100,000,000', 'average_forever': 89714, 'average_2weeks': 0, 'median_forever': 215, 'median_2weeks': 0, 'price': '0', 'initialprice': '0', 'discount': '0', 'ccu': 13857}\n",
      "{'appid': 236390, 'name': 'War Thunder', 'developer': 'Gaijin Entertainment', 'publisher': 'Gaijin Network Ltd', 'score_rank': '', 'positive': 467944, 'negative': 268194, 'userscore': 0, 'owners': '20,000,000 .. 50,000,000', 'average_forever': 5306, 'average_2weeks': 312, 'median_forever': 507, 'median_2weeks': 312, 'price': '0', 'initialprice': '0', 'discount': '0', 'ccu': 56742}\n",
      "{'appid': 1245620, 'name': 'ELDEN RING', 'developer': 'FromSoftware, Inc.', 'publisher': 'FromSoftware, Inc., Bandai Namco Entertainment', 'score_rank': '', 'positive': 960363, 'negative': 73980, 'userscore': 0, 'owners': '20,000,000 .. 50,000,000', 'average_forever': 8679, 'average_2weeks': 137, 'median_forever': 7154, 'median_2weeks': 274, 'price': '5999', 'initialprice': '5999', 'discount': '0', 'ccu': 40111}\n",
      "{'appid': 105600, 'name': 'Terraria', 'developer': 'Re-Logic', 'publisher': 'Re-Logic', 'score_rank': '', 'positive': 1352503, 'negative': 34764, 'userscore': 0, 'owners': '20,000,000 .. 50,000,000', 'average_forever': 8159, 'average_2weeks': 917, 'median_forever': 4193, 'median_2weeks': 917, 'price': '499', 'initialprice': '999', 'discount': '50', 'ccu': 25236}\n",
      "{'appid': 440, 'name': 'Team Fortress 2', 'developer': 'Valve', 'publisher': 'Valve', 'score_rank': '', 'positive': 1027790, 'negative': 120145, 'userscore': 0, 'owners': '20,000,000 .. 50,000,000', 'average_forever': 6024, 'average_2weeks': 217, 'median_forever': 212, 'median_2weeks': 279, 'price': '0', 'initialprice': '0', 'discount': '0', 'ccu': 46718}\n",
      "{'appid': 291550, 'name': 'Brawlhalla', 'developer': 'Blue Mammoth Games', 'publisher': 'Ubisoft', 'score_rank': '', 'positive': 312737, 'negative': 70132, 'userscore': 0, 'owners': '20,000,000 .. 50,000,000', 'average_forever': 1388, 'average_2weeks': 0, 'median_forever': 296, 'median_2weeks': 0, 'price': '0', 'initialprice': '0', 'discount': '0', 'ccu': 13066}\n",
      "{'appid': 1086940, 'name': \"Baldur's Gate 3\", 'developer': 'Larian Studios', 'publisher': 'Larian Studios', 'score_rank': '', 'positive': 713684, 'negative': 23342, 'userscore': 0, 'owners': '20,000,000 .. 50,000,000', 'average_forever': 4254, 'average_2weeks': 1601, 'median_forever': 3310, 'median_2weeks': 2829, 'price': '5999', 'initialprice': '5999', 'discount': '0', 'ccu': 57727}\n",
      "{'appid': 431960, 'name': 'Wallpaper Engine', 'developer': 'Wallpaper Engine Team', 'publisher': 'Wallpaper Engine Team', 'score_rank': '', 'positive': 858998, 'negative': 17212, 'userscore': 0, 'owners': '20,000,000 .. 50,000,000', 'average_forever': 4357, 'average_2weeks': 151, 'median_forever': 1220, 'median_2weeks': 83, 'price': '499', 'initialprice': '499', 'discount': '0', 'ccu': 61715}\n",
      "{'appid': 4000, 'name': \"Garry's Mod\", 'developer': 'Facepunch Studios', 'publisher': 'Valve', 'score_rank': '', 'positive': 1109478, 'negative': 36813, 'userscore': 0, 'owners': '20,000,000 .. 50,000,000', 'average_forever': 3601, 'average_2weeks': 1, 'median_forever': 2289, 'median_2weeks': 1, 'price': '999', 'initialprice': '999', 'discount': '0', 'ccu': 20023}\n",
      "{'appid': 359550, 'name': \"Tom Clancy's Rainbow Six Siege\", 'developer': 'Ubisoft Montreal', 'publisher': 'Ubisoft', 'score_rank': '', 'positive': 1157904, 'negative': 220074, 'userscore': 0, 'owners': '20,000,000 .. 50,000,000', 'average_forever': 17408, 'average_2weeks': 447, 'median_forever': 3231, 'median_2weeks': 447, 'price': '1999', 'initialprice': '1999', 'discount': '0', 'ccu': 104325}\n",
      "{'appid': 1085660, 'name': 'Destiny 2', 'developer': 'Bungie', 'publisher': 'Bungie', 'score_rank': '', 'positive': 495498, 'negative': 126180, 'userscore': 0, 'owners': '20,000,000 .. 50,000,000', 'average_forever': 5058, 'average_2weeks': 0, 'median_forever': 703, 'median_2weeks': 0, 'price': '0', 'initialprice': '0', 'discount': '0', 'ccu': 36160}\n",
      "{'appid': 252490, 'name': 'Rust', 'developer': 'Facepunch Studios', 'publisher': 'Facepunch Studios', 'score_rank': '', 'positive': 1048479, 'negative': 152980, 'userscore': 0, 'owners': '20,000,000 .. 50,000,000', 'average_forever': 12414, 'average_2weeks': 0, 'median_forever': 1153, 'median_2weeks': 0, 'price': '3999', 'initialprice': '3999', 'discount': '0', 'ccu': 125074}\n",
      "{'appid': 346110, 'name': 'ARK: Survival Evolved', 'developer': 'Studio Wildcard, Instinct Games, Efecto Studios, Virtual Basement LLC', 'publisher': 'Studio Wildcard, Snail Games USA', 'score_rank': '', 'positive': 605324, 'negative': 117451, 'userscore': 0, 'owners': '20,000,000 .. 50,000,000', 'average_forever': 1815, 'average_2weeks': 0, 'median_forever': 388, 'median_2weeks': 0, 'price': '1499', 'initialprice': '1499', 'discount': '0', 'ccu': 21105}\n",
      "{'appid': 892970, 'name': 'Valheim', 'developer': 'Iron Gate AB', 'publisher': 'Coffee Stain Publishing', 'score_rank': '', 'positive': 464323, 'negative': 27564, 'userscore': 0, 'owners': '20,000,000 .. 50,000,000', 'average_forever': 2406, 'average_2weeks': 615, 'median_forever': 1802, 'median_2weeks': 615, 'price': '999', 'initialprice': '1999', 'discount': '50', 'ccu': 28074}\n",
      "{'appid': 1091500, 'name': 'Cyberpunk 2077', 'developer': 'CD PROJEKT RED', 'publisher': 'CD PROJEKT RED', 'score_rank': '', 'positive': 693646, 'negative': 131951, 'userscore': 0, 'owners': '20,000,000 .. 50,000,000', 'average_forever': 2884, 'average_2weeks': 4504, 'median_forever': 2373, 'median_2weeks': 4504, 'price': '2399', 'initialprice': '5999', 'discount': '60', 'ccu': 30077}\n",
      "{'appid': 218620, 'name': 'PAYDAY 2', 'developer': 'OVERKILL - a Starbreeze Studio.', 'publisher': 'Starbreeze Publishing AB', 'score_rank': '', 'positive': 593655, 'negative': 68750, 'userscore': 0, 'owners': '20,000,000 .. 50,000,000', 'average_forever': 1912, 'average_2weeks': 0, 'median_forever': 395, 'median_2weeks': 0, 'price': '999', 'initialprice': '999', 'discount': '0', 'ccu': 14132}\n",
      "{'appid': 901583, 'name': 'Grand Theft Auto IV: Complete Edition', 'developer': 'Rockstar North, Rockstar Toronto', 'publisher': 'Rockstar Games', 'score_rank': '', 'positive': 141173, 'negative': 30293, 'userscore': 0, 'owners': '20,000,000 .. 50,000,000', 'average_forever': 0, 'average_2weeks': 0, 'median_forever': 0, 'median_2weeks': 0, 'price': '0', 'initialprice': '0', 'discount': '0', 'ccu': 0}\n",
      "{'appid': 238960, 'name': 'Path of Exile', 'developer': 'Grinding Gear Games', 'publisher': 'Grinding Gear Games', 'score_rank': '', 'positive': 208612, 'negative': 25036, 'userscore': 0, 'owners': '20,000,000 .. 50,000,000', 'average_forever': 17670, 'average_2weeks': 0, 'median_forever': 522, 'median_2weeks': 0, 'price': '0', 'initialprice': '0', 'discount': '0', 'ccu': 13512}\n",
      "{'appid': 242760, 'name': 'The Forest', 'developer': 'Endnight Games Ltd', 'publisher': 'Endnight Games Ltd', 'score_rank': '', 'positive': 591276, 'negative': 27619, 'userscore': 0, 'owners': '20,000,000 .. 50,000,000', 'average_forever': 1514, 'average_2weeks': 0, 'median_forever': 1421, 'median_2weeks': 0, 'price': '1999', 'initialprice': '1999', 'discount': '0', 'ccu': 10110}\n",
      "{'appid': 322330, 'name': \"Don't Starve Together\", 'developer': 'Klei Entertainment', 'publisher': 'Klei Entertainment', 'score_rank': '', 'positive': 469172, 'negative': 22710, 'userscore': 0, 'owners': '20,000,000 .. 50,000,000', 'average_forever': 3330, 'average_2weeks': 0, 'median_forever': 976, 'median_2weeks': 0, 'price': '1499', 'initialprice': '1499', 'discount': '0', 'ccu': 20406}\n",
      "{'appid': 1203220, 'name': 'NARAKA: BLADEPOINT', 'developer': '24 Entertainment', 'publisher': 'NetEase Games Global', 'score_rank': '', 'positive': 223417, 'negative': 94615, 'userscore': 0, 'owners': '20,000,000 .. 50,000,000', 'average_forever': 4245, 'average_2weeks': 57, 'median_forever': 1976, 'median_2weeks': 57, 'price': '0', 'initialprice': '0', 'discount': '0', 'ccu': 31742}\n",
      "{'appid': 899770, 'name': 'Last Epoch', 'developer': 'Eleventh Hour Games', 'publisher': 'Eleventh Hour Games', 'score_rank': '', 'positive': 78123, 'negative': 22977, 'userscore': 0, 'owners': '20,000,000 .. 50,000,000', 'average_forever': 7999, 'average_2weeks': 0, 'median_forever': 11932, 'median_2weeks': 0, 'price': '3499', 'initialprice': '3499', 'discount': '0', 'ccu': 2717}\n",
      "{'appid': 413150, 'name': 'Stardew Valley', 'developer': 'ConcernedApe', 'publisher': 'ConcernedApe', 'score_rank': '', 'positive': 849454, 'negative': 13533, 'userscore': 0, 'owners': '20,000,000 .. 50,000,000', 'average_forever': 4665, 'average_2weeks': 0, 'median_forever': 3085, 'median_2weeks': 0, 'price': '1499', 'initialprice': '1499', 'discount': '0', 'ccu': 57032}\n",
      "{'appid': 340, 'name': 'Half-Life 2: Lost Coast', 'developer': 'Valve', 'publisher': 'Valve', 'score_rank': '', 'positive': 12258, 'negative': 1470, 'userscore': 0, 'owners': '20,000,000 .. 50,000,000', 'average_forever': 0, 'average_2weeks': 0, 'median_forever': 0, 'median_2weeks': 0, 'price': '199', 'initialprice': '1999', 'discount': '90', 'ccu': 5}\n",
      "{'appid': 381210, 'name': 'Dead by Daylight', 'developer': 'Behaviour Interactive Inc.', 'publisher': 'Behaviour Interactive Inc.', 'score_rank': '', 'positive': 620024, 'negative': 164405, 'userscore': 0, 'owners': '20,000,000 .. 50,000,000', 'average_forever': 3848, 'average_2weeks': 0, 'median_forever': 1564, 'median_2weeks': 0, 'price': '1999', 'initialprice': '1999', 'discount': '0', 'ccu': 36188}\n",
      "{'appid': 945360, 'name': 'Among Us', 'developer': 'Innersloth', 'publisher': 'Innersloth', 'score_rank': '', 'positive': 641435, 'negative': 56898, 'userscore': 0, 'owners': '20,000,000 .. 50,000,000', 'average_forever': 1465, 'average_2weeks': 0, 'median_forever': 1335, 'median_2weeks': 0, 'price': '499', 'initialprice': '499', 'discount': '0', 'ccu': 5495}\n",
      "{'appid': 1097150, 'name': 'Fall Guys: Ultimate Knockout', 'developer': 'Mediatonic', 'publisher': 'Ravenscourt', 'score_rank': '', 'positive': 385809, 'negative': 88753, 'userscore': 0, 'owners': '20,000,000 .. 50,000,000', 'average_forever': 1231, 'average_2weeks': 0, 'median_forever': 339, 'median_2weeks': 0, 'price': '0', 'initialprice': '0', 'discount': '0', 'ccu': 710}\n",
      "{'appid': 292030, 'name': 'The Witcher 3: Wild Hunt', 'developer': 'CD PROJEKT RED', 'publisher': 'CD PROJEKT RED', 'score_rank': '', 'positive': 792414, 'negative': 32017, 'userscore': 0, 'owners': '10,000,000 .. 20,000,000', 'average_forever': 2149, 'average_2weeks': 0, 'median_forever': 671, 'median_2weeks': 0, 'price': '799', 'initialprice': '3999', 'discount': '80', 'ccu': 12503}\n",
      "{'appid': 227300, 'name': 'Euro Truck Simulator 2', 'developer': 'SCS Software', 'publisher': 'SCS Software', 'score_rank': '', 'positive': 828301, 'negative': 22433, 'userscore': 0, 'owners': '10,000,000 .. 20,000,000', 'average_forever': 3769, 'average_2weeks': 151, 'median_forever': 2872, 'median_2weeks': 165, 'price': '1999', 'initialprice': '1999', 'discount': '0', 'ccu': 27020}\n",
      "{'appid': 444090, 'name': 'Paladins', 'developer': 'Evil Mojo Games', 'publisher': 'Hi-Rez Studios', 'score_rank': '', 'positive': 294533, 'negative': 52099, 'userscore': 0, 'owners': '10,000,000 .. 20,000,000', 'average_forever': 2723, 'average_2weeks': 0, 'median_forever': 487, 'median_2weeks': 0, 'price': '0', 'initialprice': '0', 'discount': '0', 'ccu': 1492}\n",
      "{'appid': 552990, 'name': 'World of Warships', 'developer': 'Wargaming Group Limited', 'publisher': 'Wargaming Group Limited', 'score_rank': '', 'positive': 111999, 'negative': 33149, 'userscore': 0, 'owners': '10,000,000 .. 20,000,000', 'average_forever': 304, 'average_2weeks': 0, 'median_forever': 332, 'median_2weeks': 0, 'price': '0', 'initialprice': '0', 'discount': '0', 'ccu': 5495}\n",
      "{'appid': 438100, 'name': 'VRChat', 'developer': 'VRChat Inc.', 'publisher': 'VRChat Inc.', 'score_rank': '', 'positive': 178275, 'negative': 57738, 'userscore': 0, 'owners': '10,000,000 .. 20,000,000', 'average_forever': 3554, 'average_2weeks': 32, 'median_forever': 54, 'median_2weeks': 32, 'price': '0', 'initialprice': '0', 'discount': '0', 'ccu': 39277}\n",
      "{'appid': 320, 'name': 'Half-Life 2: Deathmatch', 'developer': 'Valve', 'publisher': 'Valve', 'score_rank': '', 'positive': 12761, 'negative': 1303, 'userscore': 0, 'owners': '10,000,000 .. 20,000,000', 'average_forever': 296, 'average_2weeks': 0, 'median_forever': 441, 'median_2weeks': 0, 'price': '199', 'initialprice': '1999', 'discount': '90', 'ccu': 157}\n",
      "{'appid': 272060, 'name': 'Serena', 'developer': 'Senscape', 'publisher': 'Senscape', 'score_rank': '', 'positive': 4942, 'negative': 1475, 'userscore': 0, 'owners': '10,000,000 .. 20,000,000', 'average_forever': 0, 'average_2weeks': 0, 'median_forever': 0, 'median_2weeks': 0, 'price': '0', 'initialprice': '0', 'discount': '0', 'ccu': 2}\n",
      "{'appid': 739630, 'name': 'Phasmophobia', 'developer': 'Kinetic Games', 'publisher': 'Kinetic Games', 'score_rank': '', 'positive': 727401, 'negative': 31543, 'userscore': 0, 'owners': '10,000,000 .. 20,000,000', 'average_forever': 2044, 'average_2weeks': 20, 'median_forever': 1279, 'median_2weeks': 20, 'price': '1999', 'initialprice': '1999', 'discount': '0', 'ccu': 19240}\n",
      "{'appid': 990080, 'name': 'Hogwarts Legacy', 'developer': 'Avalanche Software', 'publisher': 'Warner Bros. Games', 'score_rank': '', 'positive': 282771, 'negative': 30204, 'userscore': 0, 'owners': '10,000,000 .. 20,000,000', 'average_forever': 2323, 'average_2weeks': 0, 'median_forever': 3147, 'median_2weeks': 0, 'price': '1499', 'initialprice': '5999', 'discount': '75', 'ccu': 13651}\n",
      "{'appid': 620, 'name': 'Portal 2', 'developer': 'Valve', 'publisher': 'Valve', 'score_rank': '', 'positive': 422197, 'negative': 5576, 'userscore': 0, 'owners': '10,000,000 .. 20,000,000', 'average_forever': 640, 'average_2weeks': 0, 'median_forever': 509, 'median_2weeks': 0, 'price': '199', 'initialprice': '999', 'discount': '80', 'ccu': 2563}\n",
      "{'appid': 227940, 'name': 'Heroes & Generals', 'developer': 'TLM Partners', 'publisher': 'TLM Partners', 'score_rank': '', 'positive': 96599, 'negative': 46361, 'userscore': 0, 'owners': '10,000,000 .. 20,000,000', 'average_forever': 141, 'average_2weeks': 0, 'median_forever': 49, 'median_2weeks': 0, 'price': '0', 'initialprice': '0', 'discount': '0', 'ccu': 1}\n",
      "{'appid': 70, 'name': 'Half-Life', 'developer': 'Valve', 'publisher': 'Valve', 'score_rank': '', 'positive': 140981, 'negative': 5044, 'userscore': 0, 'owners': '10,000,000 .. 20,000,000', 'average_forever': 110, 'average_2weeks': 0, 'median_forever': 108, 'median_2weeks': 0, 'price': '199', 'initialprice': '999', 'discount': '80', 'ccu': 1070}\n",
      "{'appid': 252950, 'name': 'Rocket League', 'developer': 'Psyonix LLC', 'publisher': 'Psyonix LLC', 'score_rank': '', 'positive': 509403, 'negative': 73236, 'userscore': 0, 'owners': '10,000,000 .. 20,000,000', 'average_forever': 29351, 'average_2weeks': 647, 'median_forever': 10136, 'median_2weeks': 647, 'price': '0', 'initialprice': '0', 'discount': '0', 'ccu': 29103}\n",
      "{'appid': 1966720, 'name': 'Lethal Company', 'developer': 'Zeekerss', 'publisher': 'Zeekerss', 'score_rank': '', 'positive': 468218, 'negative': 13189, 'userscore': 0, 'owners': '10,000,000 .. 20,000,000', 'average_forever': 721, 'average_2weeks': 0, 'median_forever': 433, 'median_2weeks': 0, 'price': '999', 'initialprice': '999', 'discount': '0', 'ccu': 8173}\n",
      "{'appid': 1517290, 'name': 'Battlefield 2042', 'developer': 'DICE', 'publisher': 'Electronic Arts', 'score_rank': '', 'positive': 136354, 'negative': 156554, 'userscore': 0, 'owners': '10,000,000 .. 20,000,000', 'average_forever': 1530, 'average_2weeks': 0, 'median_forever': 932, 'median_2weeks': 0, 'price': '479', 'initialprice': '5999', 'discount': '92', 'ccu': 8799}\n",
      "{'appid': 1240440, 'name': 'Halo Infinite', 'developer': '343 Industries', 'publisher': 'Xbox Game Studios', 'score_rank': '', 'positive': 122898, 'negative': 53093, 'userscore': 0, 'owners': '10,000,000 .. 20,000,000', 'average_forever': 443, 'average_2weeks': 0, 'median_forever': 115, 'median_2weeks': 0, 'price': '0', 'initialprice': '0', 'discount': '0', 'ccu': 3652}\n",
      "{'appid': 582010, 'name': 'Monster Hunter: World', 'developer': 'CAPCOM Co., Ltd.', 'publisher': 'CAPCOM Co., Ltd.', 'score_rank': '', 'positive': 428814, 'negative': 58700, 'userscore': 0, 'owners': '10,000,000 .. 20,000,000', 'average_forever': 13181, 'average_2weeks': 24, 'median_forever': 7699, 'median_2weeks': 24, 'price': '2999', 'initialprice': '2999', 'discount': '0', 'ccu': 16461}\n",
      "{'appid': 240, 'name': 'Counter-Strike: Source', 'developer': 'Valve', 'publisher': 'Valve', 'score_rank': '', 'positive': 173679, 'negative': 6730, 'userscore': 0, 'owners': '10,000,000 .. 20,000,000', 'average_forever': 778, 'average_2weeks': 0, 'median_forever': 155, 'median_2weeks': 0, 'price': '199', 'initialprice': '999', 'discount': '80', 'ccu': 15994}\n",
      "{'appid': 108600, 'name': 'Project Zomboid', 'developer': 'The Indie Stone', 'publisher': 'The Indie Stone', 'score_rank': '', 'positive': 342330, 'negative': 21182, 'userscore': 0, 'owners': '10,000,000 .. 20,000,000', 'average_forever': 6447, 'average_2weeks': 14, 'median_forever': 1432, 'median_2weeks': 14, 'price': '1999', 'initialprice': '1999', 'discount': '0', 'ccu': 24578}\n",
      "{'appid': 386360, 'name': 'SMITE', 'developer': 'Titan Forge Games', 'publisher': 'Hi-Rez Studios', 'score_rank': '', 'positive': 94356, 'negative': 25391, 'userscore': 0, 'owners': '10,000,000 .. 20,000,000', 'average_forever': 10225, 'average_2weeks': 0, 'median_forever': 124, 'median_2weeks': 0, 'price': '0', 'initialprice': '0', 'discount': '0', 'ccu': 2224}\n",
      "{'appid': 10, 'name': 'Counter-Strike', 'developer': 'Valve', 'publisher': 'Valve', 'score_rank': '', 'positive': 241945, 'negative': 6369, 'userscore': 0, 'owners': '10,000,000 .. 20,000,000', 'average_forever': 11378, 'average_2weeks': 0, 'median_forever': 168, 'median_2weeks': 0, 'price': '199', 'initialprice': '999', 'discount': '80', 'ccu': 10838}\n",
      "{'appid': 648800, 'name': 'Raft', 'developer': 'Redbeet Interactive', 'publisher': 'Axolot Games', 'score_rank': '', 'positive': 318008, 'negative': 22648, 'userscore': 0, 'owners': '10,000,000 .. 20,000,000', 'average_forever': 1175, 'average_2weeks': 0, 'median_forever': 306, 'median_2weeks': 0, 'price': '1999', 'initialprice': '1999', 'discount': '0', 'ccu': 9026}\n",
      "{'appid': 1468810, 'name': '鬼谷八荒 Tale of Immortal', 'developer': '鬼谷工作室', 'publisher': '鬼谷工作室, Lightning Games', 'score_rank': '', 'positive': 120385, 'negative': 106091, 'userscore': 0, 'owners': '10,000,000 .. 20,000,000', 'average_forever': 3668, 'average_2weeks': 0, 'median_forever': 3891, 'median_2weeks': 0, 'price': '1399', 'initialprice': '1999', 'discount': '30', 'ccu': 3297}\n",
      "{'appid': 444200, 'name': 'World of Tanks Blitz', 'developer': 'Wargaming Group Limited', 'publisher': 'Wargaming Group Limited', 'score_rank': '', 'positive': 115857, 'negative': 31385, 'userscore': 0, 'owners': '10,000,000 .. 20,000,000', 'average_forever': 2515, 'average_2weeks': 0, 'median_forever': 9, 'median_2weeks': 0, 'price': '0', 'initialprice': '0', 'discount': '0', 'ccu': 5375}\n",
      "{'appid': 755790, 'name': 'Ring of Elysium', 'developer': 'Aurora Studio', 'publisher': 'TCH Scarlet Limited', 'score_rank': '', 'positive': 74454, 'negative': 25562, 'userscore': 0, 'owners': '10,000,000 .. 20,000,000', 'average_forever': 790, 'average_2weeks': 0, 'median_forever': 270, 'median_2weeks': 0, 'price': '0', 'initialprice': '0', 'discount': '0', 'ccu': 2}\n",
      "{'appid': 1174180, 'name': 'Red Dead Redemption 2', 'developer': 'Rockstar Games', 'publisher': 'Rockstar Games', 'score_rank': '', 'positive': 644612, 'negative': 55287, 'userscore': 0, 'owners': '10,000,000 .. 20,000,000', 'average_forever': 1900, 'average_2weeks': 9, 'median_forever': 820, 'median_2weeks': 9, 'price': '5999', 'initialprice': '5999', 'discount': '0', 'ccu': 30332}\n",
      "{'appid': 250900, 'name': 'The Binding of Isaac: Rebirth', 'developer': 'Nicalis, Inc., Edmund McMillen', 'publisher': 'Nicalis, Inc.', 'score_rank': '', 'positive': 325926, 'negative': 8821, 'userscore': 0, 'owners': '10,000,000 .. 20,000,000', 'average_forever': 1279, 'average_2weeks': 0, 'median_forever': 2457, 'median_2weeks': 0, 'price': '1499', 'initialprice': '1499', 'discount': '0', 'ccu': 22219}\n",
      "{'appid': 550650, 'name': 'Black Squad', 'developer': 'VALOFE, NS STUDIO', 'publisher': 'VALOFE', 'score_rank': '', 'positive': 62077, 'negative': 19641, 'userscore': 0, 'owners': '10,000,000 .. 20,000,000', 'average_forever': 158, 'average_2weeks': 0, 'median_forever': 62, 'median_2weeks': 0, 'price': '0', 'initialprice': '0', 'discount': '0', 'ccu': 294}\n",
      "{'appid': 367520, 'name': 'Hollow Knight', 'developer': 'Team Cherry', 'publisher': 'Team Cherry', 'score_rank': '', 'positive': 390673, 'negative': 11885, 'userscore': 0, 'owners': '10,000,000 .. 20,000,000', 'average_forever': 3286, 'average_2weeks': 0, 'median_forever': 1374, 'median_2weeks': 0, 'price': '1499', 'initialprice': '1499', 'discount': '0', 'ccu': 6836}\n",
      "{'appid': 301520, 'name': 'Robocraft', 'developer': 'Freejam', 'publisher': 'Freejam', 'score_rank': '', 'positive': 86255, 'negative': 31870, 'userscore': 0, 'owners': '10,000,000 .. 20,000,000', 'average_forever': 2678, 'average_2weeks': 0, 'median_forever': 485, 'median_2weeks': 0, 'price': '0', 'initialprice': '0', 'discount': '0', 'ccu': 10}\n",
      "{'appid': 239140, 'name': 'Dying Light', 'developer': 'Techland', 'publisher': 'Techland', 'score_rank': '', 'positive': 429646, 'negative': 21641, 'userscore': 0, 'owners': '10,000,000 .. 20,000,000', 'average_forever': 1437, 'average_2weeks': 0, 'median_forever': 1044, 'median_2weeks': 0, 'price': '899', 'initialprice': '2999', 'discount': '70', 'ccu': 4606}\n",
      "{'appid': 477160, 'name': 'Human Fall Flat', 'developer': 'No Brakes Games', 'publisher': 'Curve Games', 'score_rank': '', 'positive': 200594, 'negative': 11244, 'userscore': 0, 'owners': '10,000,000 .. 20,000,000', 'average_forever': 497, 'average_2weeks': 0, 'median_forever': 360, 'median_2weeks': 0, 'price': '599', 'initialprice': '1999', 'discount': '70', 'ccu': 1161}\n",
      "{'appid': 100, 'name': 'Counter-Strike: Condition Zero', 'developer': 'Valve', 'publisher': 'Valve', 'score_rank': '', 'positive': 13442, 'negative': 1535, 'userscore': 0, 'owners': '10,000,000 .. 20,000,000', 'average_forever': 68, 'average_2weeks': 0, 'median_forever': 68, 'median_2weeks': 0, 'price': '199', 'initialprice': '999', 'discount': '80', 'ccu': 49}\n",
      "{'appid': 251570, 'name': '7 Days to Die', 'developer': 'The Fun Pimps', 'publisher': 'The Fun Pimps Entertainment LLC', 'score_rank': '', 'positive': 323304, 'negative': 41591, 'userscore': 0, 'owners': '10,000,000 .. 20,000,000', 'average_forever': 3965, 'average_2weeks': 0, 'median_forever': 3118, 'median_2weeks': 0, 'price': '4499', 'initialprice': '4499', 'discount': '0', 'ccu': 22827}\n",
      "{'appid': 814380, 'name': 'Sekiro: Shadows Die Twice - GOTY Edition', 'developer': 'FromSoftware, Inc.', 'publisher': 'Activision (Excluding Japan and Asia), FromSoftware, Inc. (Japan), 方块游戏 (Asia)', 'score_rank': '', 'positive': 301179, 'negative': 14909, 'userscore': 0, 'owners': '10,000,000 .. 20,000,000', 'average_forever': 1417, 'average_2weeks': 0, 'median_forever': 1405, 'median_2weeks': 0, 'price': '5999', 'initialprice': '5999', 'discount': '0', 'ccu': 4945}\n",
      "{'appid': 1222670, 'name': 'The Sims 4', 'developer': 'Maxis', 'publisher': 'Electronic Arts', 'score_rank': '', 'positive': 144034, 'negative': 20870, 'userscore': 0, 'owners': '10,000,000 .. 20,000,000', 'average_forever': 94, 'average_2weeks': 0, 'median_forever': 123, 'median_2weeks': 0, 'price': '0', 'initialprice': '0', 'discount': '0', 'ccu': 35535}\n",
      "{'appid': 417910, 'name': 'Street Warriors Online', 'developer': 'Crazy Rocks Studios', 'publisher': 'Crazy Rocks Studios', 'score_rank': '', 'positive': 941, 'negative': 697, 'userscore': 0, 'owners': '10,000,000 .. 20,000,000', 'average_forever': 61, 'average_2weeks': 0, 'median_forever': 61, 'median_2weeks': 0, 'price': '199', 'initialprice': '199', 'discount': '0', 'ccu': 0}\n",
      "{'appid': 433850, 'name': 'Z1 Battle Royale', 'developer': 'Daybreak Game Company', 'publisher': 'Daybreak Game Company', 'score_rank': '', 'positive': 113849, 'negative': 90460, 'userscore': 0, 'owners': '10,000,000 .. 20,000,000', 'average_forever': 1649, 'average_2weeks': 0, 'median_forever': 141, 'median_2weeks': 0, 'price': '0', 'initialprice': '0', 'discount': '0', 'ccu': 913}\n",
      "{'appid': 594650, 'name': 'Hunt: Showdown 1896', 'developer': 'Crytek', 'publisher': 'Crytek', 'score_rank': '', 'positive': 178680, 'negative': 65704, 'userscore': 0, 'owners': '10,000,000 .. 20,000,000', 'average_forever': 316, 'average_2weeks': 0, 'median_forever': 459, 'median_2weeks': 0, 'price': '1499', 'initialprice': '2999', 'discount': '50', 'ccu': 10701}\n",
      "{'appid': 220, 'name': 'Half-Life 2', 'developer': 'Valve', 'publisher': 'Valve', 'score_rank': '', 'positive': 233724, 'negative': 5755, 'userscore': 0, 'owners': '10,000,000 .. 20,000,000', 'average_forever': 1144, 'average_2weeks': 0, 'median_forever': 345, 'median_2weeks': 0, 'price': '199', 'initialprice': '999', 'discount': '80', 'ccu': 2406}\n",
      "{'appid': 230410, 'name': 'Warframe', 'developer': 'Digital Extremes', 'publisher': 'Digital Extremes', 'score_rank': '', 'positive': 538255, 'negative': 79694, 'userscore': 0, 'owners': '10,000,000 .. 20,000,000', 'average_forever': 11797, 'average_2weeks': 2429, 'median_forever': 809, 'median_2weeks': 4696, 'price': '0', 'initialprice': '0', 'discount': '0', 'ccu': 77138}\n",
      "{'appid': 219990, 'name': 'Grim Dawn', 'developer': 'Crate Entertainment', 'publisher': 'Crate Entertainment', 'score_rank': '', 'positive': 92513, 'negative': 6176, 'userscore': 0, 'owners': '10,000,000 .. 20,000,000', 'average_forever': 827, 'average_2weeks': 0, 'median_forever': 655, 'median_2weeks': 0, 'price': '2499', 'initialprice': '2499', 'discount': '0', 'ccu': 2761}\n",
      "{'appid': 261550, 'name': 'Mount & Blade II: Bannerlord', 'developer': 'TaleWorlds Entertainment', 'publisher': 'TaleWorlds Entertainment', 'score_rank': '', 'positive': 229002, 'negative': 31784, 'userscore': 0, 'owners': '10,000,000 .. 20,000,000', 'average_forever': 244, 'average_2weeks': 0, 'median_forever': 244, 'median_2weeks': 0, 'price': '4999', 'initialprice': '4999', 'discount': '0', 'ccu': 14438}\n",
      "{'appid': 8930, 'name': \"Sid Meier's Civilization V\", 'developer': 'Firaxis Games, Aspyr (Mac), Aspyr (Linux)', 'publisher': '2K, Aspyr (Mac), Aspyr (Linux)', 'score_rank': '', 'positive': 194639, 'negative': 8509, 'userscore': 0, 'owners': '10,000,000 .. 20,000,000', 'average_forever': 8223, 'average_2weeks': 0, 'median_forever': 6382, 'median_2weeks': 0, 'price': '2999', 'initialprice': '2999', 'discount': '0', 'ccu': 15347}\n",
      "{'appid': 304050, 'name': 'Trove', 'developer': 'gamigo US Inc.', 'publisher': 'gamigo US Inc.', 'score_rank': '', 'positive': 74118, 'negative': 18207, 'userscore': 0, 'owners': '10,000,000 .. 20,000,000', 'average_forever': 431, 'average_2weeks': 0, 'median_forever': 329, 'median_2weeks': 0, 'price': '0', 'initialprice': '0', 'discount': '0', 'ccu': 832}\n",
      "{'appid': 107410, 'name': 'Arma 3', 'developer': 'Bohemia Interactive', 'publisher': 'Bohemia Interactive', 'score_rank': '', 'positive': 253678, 'negative': 26842, 'userscore': 0, 'owners': '10,000,000 .. 20,000,000', 'average_forever': 5408, 'average_2weeks': 0, 'median_forever': 2874, 'median_2weeks': 0, 'price': '599', 'initialprice': '2999', 'discount': '80', 'ccu': 10579}\n",
      "{'appid': 377160, 'name': 'Fallout 4', 'developer': 'Bethesda Game Studios', 'publisher': 'Bethesda Softworks', 'score_rank': '', 'positive': 322253, 'negative': 65891, 'userscore': 0, 'owners': '10,000,000 .. 20,000,000', 'average_forever': 2001, 'average_2weeks': 0, 'median_forever': 272, 'median_2weeks': 0, 'price': '1999', 'initialprice': '1999', 'discount': '0', 'ccu': 15750}\n",
      "{'appid': 532210, 'name': 'Life is Strange 2', 'developer': 'DONTNOD Entertainment, Feral Interactive (Mac), Feral Interactive (Linux)', 'publisher': 'Square Enix, Feral Interactive (Mac), Feral Interactive (Linux)', 'score_rank': '', 'positive': 30888, 'negative': 4970, 'userscore': 0, 'owners': '10,000,000 .. 20,000,000', 'average_forever': 397, 'average_2weeks': 0, 'median_forever': 241, 'median_2weeks': 0, 'price': '3196', 'initialprice': '3196', 'discount': '0', 'ccu': 251}\n",
      "{'appid': 255710, 'name': 'Cities: Skylines', 'developer': 'Colossal Order Ltd.', 'publisher': 'Paradox Interactive', 'score_rank': '', 'positive': 251940, 'negative': 18908, 'userscore': 0, 'owners': '10,000,000 .. 20,000,000', 'average_forever': 9679, 'average_2weeks': 0, 'median_forever': 696, 'median_2weeks': 0, 'price': '299', 'initialprice': '2999', 'discount': '90', 'ccu': 9878}\n",
      "{'appid': 1326470, 'name': 'Sons Of The Forest', 'developer': 'Endnight Games Ltd', 'publisher': 'Newnight ', 'score_rank': '', 'positive': 213621, 'negative': 30183, 'userscore': 0, 'owners': '10,000,000 .. 20,000,000', 'average_forever': 2627, 'average_2weeks': 4024, 'median_forever': 3013, 'median_2weeks': 4024, 'price': '2999', 'initialprice': '2999', 'discount': '0', 'ccu': 16380}\n",
      "{'appid': 289070, 'name': 'Sid Meier’s Civilization VI', 'developer': 'Firaxis Games, Aspyr (Mac), Aspyr (Linux)', 'publisher': '2K, Aspyr (Mac), Aspyr (Linux)', 'score_rank': '', 'positive': 300219, 'negative': 45565, 'userscore': 0, 'owners': '10,000,000 .. 20,000,000', 'average_forever': 10541, 'average_2weeks': 0, 'median_forever': 3337, 'median_2weeks': 0, 'price': '5999', 'initialprice': '5999', 'discount': '0', 'ccu': 27863}\n",
      "{'appid': 526870, 'name': 'Satisfactory', 'developer': 'Coffee Stain Studios', 'publisher': 'Coffee Stain Publishing', 'score_rank': '', 'positive': 218510, 'negative': 6499, 'userscore': 0, 'owners': '5,000,000 .. 10,000,000', 'average_forever': 10043, 'average_2weeks': 0, 'median_forever': 1328, 'median_2weeks': 0, 'price': '2799', 'initialprice': '3999', 'discount': '30', 'ccu': 20980}\n",
      "{'appid': 1238810, 'name': 'Battlefield V', 'developer': 'DICE', 'publisher': 'Electronic Arts', 'score_rank': '', 'positive': 173357, 'negative': 71141, 'userscore': 0, 'owners': '5,000,000 .. 10,000,000', 'average_forever': 3881, 'average_2weeks': 0, 'median_forever': 342, 'median_2weeks': 0, 'price': '249', 'initialprice': '4999', 'discount': '95', 'ccu': 5793}\n",
      "{'appid': 60, 'name': 'Ricochet', 'developer': 'Valve', 'publisher': 'Valve', 'score_rank': '', 'positive': 4924, 'negative': 1035, 'userscore': 0, 'owners': '5,000,000 .. 10,000,000', 'average_forever': 0, 'average_2weeks': 0, 'median_forever': 0, 'median_2weeks': 0, 'price': '124', 'initialprice': '499', 'discount': '75', 'ccu': 6}\n",
      "{'appid': 221100, 'name': 'DayZ', 'developer': 'Bohemia Interactive', 'publisher': 'Bohemia Interactive', 'score_rank': '', 'positive': 323726, 'negative': 99250, 'userscore': 0, 'owners': '5,000,000 .. 10,000,000', 'average_forever': 1835, 'average_2weeks': 0, 'median_forever': 501, 'median_2weeks': 0, 'price': '5999', 'initialprice': '5999', 'discount': '0', 'ccu': 45720}\n",
      "{'appid': 1089350, 'name': 'NBA 2K20', 'developer': 'Visual Concepts', 'publisher': '2K', 'score_rank': '', 'positive': 30280, 'negative': 30426, 'userscore': 0, 'owners': '5,000,000 .. 10,000,000', 'average_forever': 12, 'average_2weeks': 0, 'median_forever': 12, 'median_2weeks': 0, 'price': '0', 'initialprice': '0', 'discount': '0', 'ccu': 201}\n",
      "{'appid': 204360, 'name': 'Castle Crashers', 'developer': 'The Behemoth', 'publisher': 'The Behemoth', 'score_rank': '', 'positive': 119458, 'negative': 4807, 'userscore': 0, 'owners': '5,000,000 .. 10,000,000', 'average_forever': 3030, 'average_2weeks': 0, 'median_forever': 224, 'median_2weeks': 0, 'price': '449', 'initialprice': '1499', 'discount': '70', 'ccu': 788}\n",
      "{'appid': 632360, 'name': 'Risk of Rain 2', 'developer': 'Hopoo Games', 'publisher': 'Gearbox Publishing', 'score_rank': '', 'positive': 287294, 'negative': 20115, 'userscore': 0, 'owners': '5,000,000 .. 10,000,000', 'average_forever': 3710, 'average_2weeks': 139, 'median_forever': 2371, 'median_2weeks': 139, 'price': '2499', 'initialprice': '2499', 'discount': '0', 'ccu': 7945}\n",
      "{'appid': 96000, 'name': 'The Tiny Bang Story', 'developer': 'Colibri Games', 'publisher': 'Colibri Games', 'score_rank': '', 'positive': 5607, 'negative': 815, 'userscore': 0, 'owners': '5,000,000 .. 10,000,000', 'average_forever': 323, 'average_2weeks': 0, 'median_forever': 362, 'median_2weeks': 0, 'price': '99', 'initialprice': '499', 'discount': '80', 'ccu': 11}\n",
      "{'appid': 275850, 'name': \"No Man's Sky\", 'developer': 'Hello Games', 'publisher': 'Hello Games', 'score_rank': '', 'positive': 288185, 'negative': 59304, 'userscore': 0, 'owners': '5,000,000 .. 10,000,000', 'average_forever': 4588, 'average_2weeks': 0, 'median_forever': 2300, 'median_2weeks': 0, 'price': '5999', 'initialprice': '5999', 'discount': '0', 'ccu': 10454}\n",
      "{'appid': 1811260, 'name': 'EA SPORTS FIFA 23', 'developer': 'EA Canada &amp; EA Romania', 'publisher': 'Electronic Arts', 'score_rank': '', 'positive': 86178, 'negative': 65309, 'userscore': 0, 'owners': '5,000,000 .. 10,000,000', 'average_forever': 11033, 'average_2weeks': 0, 'median_forever': 12210, 'median_2weeks': 0, 'price': '0', 'initialprice': '0', 'discount': '0', 'ccu': 1382}\n"
     ]
    }
   ],
   "source": [
    "for d in data:\n",
    "    print(d)"
   ]
  },
  {
   "cell_type": "code",
   "execution_count": 15,
   "id": "b13a1da1",
   "metadata": {},
   "outputs": [],
   "source": [
    "games_metadata = GameMetaDataList(games_metadata=data)"
   ]
  },
  {
   "cell_type": "code",
   "execution_count": 16,
   "id": "e3e141da",
   "metadata": {},
   "outputs": [],
   "source": [
    "app_ids = [g.appid for g in games_metadata.games_metadata]"
   ]
  },
  {
   "cell_type": "code",
   "execution_count": 17,
   "id": "83757f5c",
   "metadata": {},
   "outputs": [],
   "source": [
    "class SteamSpyMetadataFetcher(ApiClient):\n",
    "    \n",
    "    def __init__(self, batch_size = 100, num_workers = 4 ):\n",
    "        super().__init__()\n",
    "        self.batch_size = batch_size\n",
    "        self.url = STEAMSPY_BASE_URL\n",
    "        self.num_workers = num_workers\n",
    "    \n",
    "    def fetch_metadata(self, app_id):\n",
    "        \"\"\"Fetch metadata for a single appid\"\"\"\n",
    "        parameters = {'request':'appdetails', 'appid':app_id}\n",
    "        data = self.get_request(self.url, parameters)\n",
    "        if not data:\n",
    "            self.logger.warning(f\"Failed to fetchmetadata for {appid}\")\n",
    "            return None\n",
    "        return data\n",
    "    \n",
    "    def process_batch(self, app_ids):\n",
    "        \"\"\"Fetch metadata for a batch of appIDS in parallel\"\"\"\n",
    "        with ThreadPoolExecutor(max_workers=self.num_workers) as executor:\n",
    "            results = list(executor.map(self.fetch_metadata, app_ids))\n",
    "        return [result for result in results if result]\n",
    "    def run(self, app_ids):\n",
    "        all_data = []\n",
    "        \n",
    "        for i in range(0, len(app_ids), self.batch_size):\n",
    "            batch = app_ids[i:i+self.batch_size]\n",
    "            self.logger.info(f\"Processing batch: {batch}\")\n",
    "            batch_data= self.process_batch(batch)\n",
    "            if batch_data:\n",
    "                all_data.extend(batch_data)\n",
    "                \n",
    "        return GameDetailsList(games=all_data)"
   ]
  },
  {
   "cell_type": "code",
   "execution_count": 18,
   "id": "b1d35474",
   "metadata": {},
   "outputs": [],
   "source": [
    "client = SteamSpyMetadataFetcher()\n",
    "data = client.run(app_ids)"
   ]
  },
  {
   "cell_type": "code",
   "execution_count": 19,
   "id": "3083cf13",
   "metadata": {},
   "outputs": [
    {
     "name": "stdout",
     "output_type": "stream",
     "text": [
      "appid=570 name='Dota 2' developer='Valve' publisher='Valve' score_rank='' positive=2003648 negative=453057 userscore=0.0 owners='200,000,000 .. 500,000,000' average_forever=62824 average_2weeks=792 median_forever=823 median_2weeks=1162 price=0 initialprice=0 discount='0' ccu=351407 languages='English, Bulgarian, Czech, Danish, Dutch, Finnish, French, German, Greek, Hungarian, Italian, Japanese, Korean, Norwegian, Polish, Portuguese - Portugal, Portuguese - Brazil, Romanian, Russian, Simplified Chinese, Spanish - Spain, Swedish, Thai, Traditional Chinese, Turkish, Ukrainian, Spanish - Latin America, Vietnamese' genre='Action, Strategy, Free To Play' tags={'Free to Play': 59946, 'MOBA': 20165, 'Multiplayer': 15367, 'Strategy': 14253, 'e-sports': 11783, 'Team-Based': 10962, 'Competitive': 8287, 'Action': 7920, 'Online Co-Op': 7465, 'PvP': 6049, 'Difficult': 5349, 'Co-op': 4317, 'RTS': 4109, 'RPG': 3792, 'Tower Defense': 3777, 'Fantasy': 3750, 'Character Customization': 2931, 'Replay Value': 2757, 'Action RPG': 2460, 'Simulation': 1978}\n"
     ]
    }
   ],
   "source": [
    "data"
   ]
  },
  {
   "cell_type": "code",
   "execution_count": 76,
   "id": "ddf23c3e",
   "metadata": {},
   "outputs": [],
   "source": [
    "class SteamStoreMetadata(ApiClient):\n",
    "    \n",
    "    def __init__(self, batch_size = 100, num_workers = 4 ):\n",
    "        super().__init__()\n",
    "        self.batch_size = batch_size\n",
    "        self.url = STEAM_BASE_SEARCH_URL\n",
    "        self.num_workers = num_workers\n",
    "        \n",
    "    def parser(self, text):\n",
    "        if text:\n",
    "            soup = BeautifulSoup(text, \"lxml\")\n",
    "            plain_text = soup.get_text('\\n', strip=True)\n",
    "            return plain_text\n",
    "        return None\n",
    "    \n",
    "    def process_steam_data(self, data:dict):\n",
    "        try:\n",
    "            data = {\n",
    "                'type':  data['type'],\n",
    "                'name':  data['name'],\n",
    "                'appid': data['steam_appid'],\n",
    "                'required_age': data['required_age'],\n",
    "                'is_free':data['is_free'],\n",
    "                'dlc': data.get('dlc',[]),\n",
    "                'controller_support': data.get('controller_support',None),\n",
    "                'about_the_game': self.parser(data.get('about_the_game','')),\n",
    "                'detailed_description': self.parser(data.get('detailed_description','')),\n",
    "                'short_description': self.parser(data.get('short_description','')),\n",
    "                'supported_languages':self.parser(data.get('supported_languages','')),\n",
    "                'reviews': self.parser(data.get('reviews','')),\n",
    "                'header_image': data['header_image'],\n",
    "                'capsule_image': data['capsule_image'],\n",
    "                'website': data.get('website',''),\n",
    "                'requirements': data['pc_requirements'],\n",
    "                'developers': data.get('developers', None),\n",
    "                'publishers': data.get('publishers',None),\n",
    "                'price_overview': data.get('price_overview', None),\n",
    "                'platform': data['platforms'],\n",
    "                'metacritic': data.get('metacritic',{}).get('score',0),\n",
    "                'categories':data.get('categories',None),\n",
    "                'genres': data.get('genres',None),\n",
    "                'recommendations': data.get(\"recommendations\", {}).get(\"total\", 0),\n",
    "                'achievements_number':data.get(\"achievements\", {}).get(\"total\", 0),\n",
    "                'release_date': data['release_date']['date'],\n",
    "                'coming_soon': data['release_date']['coming_soon'], \n",
    "            }\n",
    "            return SteamGameMetadata(**data) \n",
    "            \n",
    "        except KeyError as ke:\n",
    "            self.logger.error(f\"The wrong key was not present {ke}\")\n",
    "        return None\n",
    "    \n",
    "    def fetch_metadata(self, app_id:int):\n",
    "        \"\"\"Fetch metadata for a single appid\"\"\"\n",
    "        url = f\"{self.url}/api/appdetails/\"\n",
    "        parameters = {'appids':app_id}\n",
    "        data = self.get_request(url, parameters)\n",
    "\n",
    "        if data:\n",
    "            resp = data[f\"{app_id}\"]\n",
    "\n",
    "            if resp['success']==True:\n",
    "                data = resp['data']\n",
    "                #process data \n",
    "                data = self.process_steam_data(data)\n",
    "                if data and data.appid==app_id:\n",
    "                    return data \n",
    "                else:\n",
    "                    self.logger.warning(f\"unsuccessful for pulling {app_id} data \")\n",
    "                    return None\n",
    "            \n",
    "        self.logger.warning(f\"Failed to fetch metadata for {app_id}\")\n",
    "        return None\n",
    "\n",
    "    \n",
    "    def process_batch(self, app_ids):\n",
    "        \"\"\"Fetch metadata for a batch of appIDS in parallel\"\"\"\n",
    "        with ThreadPoolExecutor(max_workers=self.num_workers) as executor:\n",
    "            results = list(executor.map(self.fetch_metadata, app_ids))\n",
    "        return [result for result in results if result]\n",
    "    \n",
    "    def run(self, app_ids):\n",
    "        all_data = []\n",
    "        \n",
    "        for i in range(0, len(app_ids), self.batch_size):\n",
    "            batch = app_ids[i:i+self.batch_size]\n",
    "            self.logger.info(f\"Processing batch: {batch}\")\n",
    "            batch_data= self.process_batch(batch)\n",
    "            if batch_data:\n",
    "                all_data.extend(batch_data)\n",
    "        return all_data"
   ]
  },
  {
   "cell_type": "code",
   "execution_count": 77,
   "id": "e330862f",
   "metadata": {},
   "outputs": [
    {
     "name": "stderr",
     "output_type": "stream",
     "text": [
      "/var/folders/s8/tqf9wz192kn1c457rshvhg440000gn/T/ipykernel_20369/930272010.py:11: MarkupResemblesLocatorWarning: The input looks more like a filename than markup. You may want to open this file and pass the filehandle into Beautiful Soup.\n",
      "  soup = BeautifulSoup(text, \"lxml\")\n",
      "unsuccessful for pulling 901583 data \n",
      "Failed to fetch metadata for 582010\n",
      "unsuccessful for pulling 100 data \n",
      "Failed to fetch metadata for 377160\n"
     ]
    }
   ],
   "source": [
    "client = SteamStoreMetadata()\n",
    "data = client.run(app_ids)"
   ]
  },
  {
   "cell_type": "code",
   "execution_count": 78,
   "id": "e31dd49a",
   "metadata": {},
   "outputs": [
    {
     "data": {
      "text/plain": [
       "SteamGameMetadata(type='game', name='Dota 2', appid=570, required_age=0, is_free=True, dlc=[1241930, 652720], controller_support=None, about_the_game=\"The most-played game on Steam.\\nEvery day, millions of players worldwide enter battle as one of over a hundred Dota heroes. And no matter if it's their 10th hour of play or 1,000th, there's always something new to discover. With regular updates that ensure a constant evolution of gameplay, features, and heroes, Dota 2 has truly taken on a life of its own.\\nOne Battlefield. Infinite Possibilities.\\nWhen it comes to diversity of heroes, abilities, and powerful items, Dota boasts an endless array—no two games are the same. Any hero can fill multiple roles, and there's an abundance of items to help meet the needs of each game. Dota doesn't provide limitations on how to play, it empowers you to express your own style.\\nAll heroes are free.\\nCompetitive balance is Dota's crown jewel, and to ensure everyone is playing on an even field, the core content of the game—like the vast pool of heroes—is available to all players. Fans can collect cosmetics for heroes and fun add-ons for the world they inhabit, but everything you need to play is already included before you join your first match.\\nBring your friends and party up.\\nDota is deep, and constantly evolving, but it's never too late to join.\\nLearn the ropes playing co-op vs. bots. Sharpen your skills in the hero demo mode. Jump into the behavior- and skill-based matchmaking system that ensures you'll\\nbe matched with the right players each game.\", detailed_description=\"The most-played game on Steam.\\nEvery day, millions of players worldwide enter battle as one of over a hundred Dota heroes. And no matter if it's their 10th hour of play or 1,000th, there's always something new to discover. With regular updates that ensure a constant evolution of gameplay, features, and heroes, Dota 2 has truly taken on a life of its own.\\nOne Battlefield. Infinite Possibilities.\\nWhen it comes to diversity of heroes, abilities, and powerful items, Dota boasts an endless array—no two games are the same. Any hero can fill multiple roles, and there's an abundance of items to help meet the needs of each game. Dota doesn't provide limitations on how to play, it empowers you to express your own style.\\nAll heroes are free.\\nCompetitive balance is Dota's crown jewel, and to ensure everyone is playing on an even field, the core content of the game—like the vast pool of heroes—is available to all players. Fans can collect cosmetics for heroes and fun add-ons for the world they inhabit, but everything you need to play is already included before you join your first match.\\nBring your friends and party up.\\nDota is deep, and constantly evolving, but it's never too late to join.\\nLearn the ropes playing co-op vs. bots. Sharpen your skills in the hero demo mode. Jump into the behavior- and skill-based matchmaking system that ensures you'll\\nbe matched with the right players each game.\", short_description=\"Every day, millions of players worldwide enter battle as one of over a hundred Dota heroes. And no matter if it's their 10th hour of play or 1,000th, there's always something new to discover. With regular updates that ensure a constant evolution of gameplay, features, and heroes, Dota 2 has taken on a life of its own.\", supported_languages='Bulgarian, Czech, Danish, Dutch, English\\n*\\n, Finnish, French, German, Greek, Hungarian, Italian, Japanese, Korean\\n*\\n, Norwegian, Polish, Portuguese - Portugal, Portuguese - Brazil, Romanian, Russian, Simplified Chinese\\n*\\n, Spanish - Spain, Swedish, Thai, Traditional Chinese, Turkish, Ukrainian, Spanish - Latin America, Vietnamese\\n*\\nlanguages with full audio support', reviews='“A modern multiplayer masterpiece.”\\n9.5/10 – Destructoid\\n“Once you start to learn its secrets, there’s a wild and exciting variety of play here that’s unmatched, even by its peers.”\\n9.4/10 – IGN\\n“Dota 2 is possibly the only competitive free-to-play game that is totally uncompromised by its business model.”\\n90/100 – PC Gamer', header_image=HttpUrl('https://shared.akamai.steamstatic.com/store_item_assets/steam/apps/570/header.jpg?t=1739210483'), capsule_image=HttpUrl('https://shared.akamai.steamstatic.com/store_item_assets/steam/apps/570/capsule_231x87.jpg?t=1739210483'), website='http://www.dota2.com/', requirements={'minimum': '<strong>Minimum:</strong><br><ul class=\"bb_ul\"><li><strong>OS *:</strong> Windows 7 or newer<br></li><li><strong>Processor:</strong> Dual core from Intel or AMD at 2.8 GHz<br></li><li><strong>Memory:</strong> 4 GB RAM<br></li><li><strong>Graphics:</strong> NVIDIA GeForce 8600/9600GT, ATI/AMD Radeon HD2600/3600<br></li><li><strong>DirectX:</strong> Version 11<br></li><li><strong>Network:</strong> Broadband Internet connection<br></li><li><strong>Storage:</strong> 60 GB available space<br></li><li><strong>Sound Card:</strong> DirectX Compatible</li></ul>'}, developers=['Valve'], publishers=['Valve'], price_overview=None, platform={'windows': True, 'mac': True, 'linux': True}, metacritic=90, categories=[{'id': 1, 'description': 'Multi-player'}, {'id': 9, 'description': 'Co-op'}, {'id': 29, 'description': 'Steam Trading Cards'}, {'id': 30, 'description': 'Steam Workshop'}, {'id': 40, 'description': 'SteamVR Collectibles'}, {'id': 35, 'description': 'In-App Purchases'}, {'id': 8, 'description': 'Valve Anti-Cheat enabled'}, {'id': 63, 'description': 'Steam Timeline'}], genres=[{'id': '1', 'description': 'Action'}, {'id': '2', 'description': 'Strategy'}, {'id': '37', 'description': 'Free To Play'}], recommendations=14338, achievements_number=0, release_date='Jul 9, 2013', coming_soon=False)"
      ]
     },
     "execution_count": 78,
     "metadata": {},
     "output_type": "execute_result"
    }
   ],
   "source": [
    "data[0]"
   ]
  },
  {
   "cell_type": "code",
   "execution_count": 74,
   "id": "4d8416a1",
   "metadata": {},
   "outputs": [
    {
     "name": "stderr",
     "output_type": "stream",
     "text": [
      "unsuccessful for pulling 100 data \n"
     ]
    },
    {
     "name": "stdout",
     "output_type": "stream",
     "text": [
      "type='game' name='Counter-Strike: Condition Zero' appid=80 required_age=0 is_free=False dlc=[] controller_support=None about_the_game=\"With its extensive Tour of Duty campaign, a near-limitless number of skirmish modes, updates and new content for Counter-Strike's award-winning multiplayer game play, plus over 12 bonus single player missions, Counter-Strike: Condition Zero is a tremendous offering of single and multiplayer content.\" detailed_description=\"With its extensive Tour of Duty campaign, a near-limitless number of skirmish modes, updates and new content for Counter-Strike's award-winning multiplayer game play, plus over 12 bonus single player missions, Counter-Strike: Condition Zero is a tremendous offering of single and multiplayer content.\" short_description=\"With its extensive Tour of Duty campaign, a near-limitless number of skirmish modes, updates and new content for Counter-Strike's award-winning multiplayer game play, plus over 12 bonus single player missions, Counter-Strike: Condition Zero is a tremendous offering of single and multiplayer content.\" supported_languages='English, French, German, Italian, Spanish - Spain, Simplified Chinese, Traditional Chinese, Korean' reviews=None header_image=HttpUrl('https://shared.akamai.steamstatic.com/store_item_assets/steam/apps/80/header.jpg?t=1729702001') capsule_image=HttpUrl('https://shared.akamai.steamstatic.com/store_item_assets/steam/apps/80/capsule_231x87.jpg?t=1729702001') website=None requirements={'minimum': '\\n\\t\\t\\t<p><strong>Minimum:</strong> 500 mhz processor, 96mb ram, 16mb video card, Windows XP, Mouse, Keyboard, Internet Connection<br /></p>\\n\\t\\t\\t<p><strong>Recommended:</strong> 800 mhz processor, 128mb ram, 32mb+ video card, Windows XP, Mouse, Keyboard, Internet Connection<br /></p>\\n\\t\\t\\t'} developers=['Valve'] publishers=['Valve'] price_overview={'currency': 'GBP', 'initial': 719, 'final': 719, 'discount_percent': 0, 'initial_formatted': '', 'final_formatted': '£7.19'} platform={'windows': True, 'mac': True, 'linux': True} metacritic=65 categories=[{'id': 2, 'description': 'Single-player'}, {'id': 1, 'description': 'Multi-player'}, {'id': 8, 'description': 'Valve Anti-Cheat enabled'}, {'id': 62, 'description': 'Family Sharing'}] genres=[{'id': '1', 'description': 'Action'}] recommendations=19543 achievements_number=0 release_date='1 Mar, 2004' coming_soon=False\n",
      "80 100\n"
     ]
    }
   ],
   "source": [
    "client = SteamStoreMetadata()\n",
    "d = client.fetch_metadata(100)"
   ]
  },
  {
   "cell_type": "code",
   "execution_count": 54,
   "id": "465b527a",
   "metadata": {},
   "outputs": [
    {
     "data": {
      "text/plain": [
       "['Mediatonic']"
      ]
     },
     "execution_count": 54,
     "metadata": {},
     "output_type": "execute_result"
    }
   ],
   "source": [
    "d.developers"
   ]
  },
  {
   "cell_type": "code",
   "execution_count": 55,
   "id": "ae29263d",
   "metadata": {},
   "outputs": [],
   "source": [
    "class SteamTop100(ApiClient):\n",
    "    def __init__(self):\n",
    "        super().__init__()\n",
    "        self.url = STEAM_TOP_GAMES\n",
    "\n",
    "\n",
    "    def run(self):\n",
    "        \n",
    "        data = self.get_request(self.url)\n",
    "        if not data:\n",
    "            self.logger.error(\"Failed to fetch data from SteamSpy\")     \n",
    "            \n",
    "        return data.values()"
   ]
  },
  {
   "cell_type": "code",
   "execution_count": 56,
   "id": "6abe1267",
   "metadata": {},
   "outputs": [],
   "source": [
    "client= SteamTop100()\n",
    "data = client.run()"
   ]
  },
  {
   "cell_type": "code",
   "execution_count": 59,
   "id": "95b7456a",
   "metadata": {},
   "outputs": [
    {
     "name": "stdout",
     "output_type": "stream",
     "text": [
      "1742428800\n"
     ]
    }
   ],
   "source": [
    "for d in data:\n",
    "    print(d['rollup_date'])"
   ]
  },
  {
   "cell_type": "code",
   "execution_count": 62,
   "id": "115cb1d8",
   "metadata": {},
   "outputs": [],
   "source": [
    "def get_utc_timestamp(timestamp):\n",
    "    return datetime.utcfromtimestamp(timestamp).strftime('%Y-%m-%d')\n",
    "\n",
    "class SteamGameRank(BaseModel):\n",
    "    appid: int = Field(...,description = \"Steam Application ID\")\n",
    "    rank: int = Field(...,description =\"game's current rank\")\n",
    "    last_week_rank: int = Field(...,description =\"game's rank last week\")\n",
    "    peak_in_game: int = Field(...,description =\"peak number of players in the last 24 hours's\")\n",
    "    scrape_data: datetime = Field(\n",
    "        ..., description=\"Date of the scrape\"\n",
    "    )\n",
    "    dne:Optional[bool] = Field(False, description=\"Flag that the app id doesn't exist in the database\")\n",
    "        \n",
    "class GameTop100Rank(BaseModel):\n",
    "    ranks: List[SteamGameRank] = Field(...,description= \"list of games metadata\")\n",
    "    \n",
    "    @classmethod\n",
    "    def from_raw_data(cls, raw_data):\n",
    "        \"\"\"Parse raw data for pydantic model\"\"\"\n",
    "        for data in raw_data:\n",
    "            scrape_data = get_utc_timestamp(data[\"rollup_date\"])\n",
    "            ranks = [\n",
    "                SteamGameRank(**game, scrape_data=scrape_data) for game in data['ranks']\n",
    "            ]\n",
    "            break\n",
    "        return cls(ranks=ranks)"
   ]
  },
  {
   "cell_type": "code",
   "execution_count": 64,
   "id": "14bf06bf",
   "metadata": {},
   "outputs": [],
   "source": [
    "top100 = GameTop100Rank.from_raw_data(data)"
   ]
  },
  {
   "cell_type": "code",
   "execution_count": null,
   "id": "121a1dd0",
   "metadata": {},
   "outputs": [],
   "source": []
  }
 ],
 "metadata": {
  "kernelspec": {
   "display_name": "Python 3 (ipykernel)",
   "language": "python",
   "name": "python3"
  },
  "language_info": {
   "codemirror_mode": {
    "name": "ipython",
    "version": 3
   },
   "file_extension": ".py",
   "mimetype": "text/x-python",
   "name": "python",
   "nbconvert_exporter": "python",
   "pygments_lexer": "ipython3",
   "version": "3.10.16"
  }
 },
 "nbformat": 4,
 "nbformat_minor": 5
}
